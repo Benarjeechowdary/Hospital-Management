{
 "cells": [
  {
   "cell_type": "markdown",
   "id": "d695e091",
   "metadata": {},
   "source": [
    "## importing required packages"
   ]
  },
  {
   "cell_type": "code",
   "execution_count": 1,
   "id": "d70d8763",
   "metadata": {},
   "outputs": [],
   "source": [
    "import numpy as np\n",
    "import pandas as pd\n",
    "import matplotlib.pyplot as plt\n",
    "import seaborn as sns\n",
    "import datetime as dt"
   ]
  },
  {
   "cell_type": "markdown",
   "id": "1f4009da",
   "metadata": {},
   "source": [
    "## declaring file_path and file_name"
   ]
  },
  {
   "cell_type": "code",
   "execution_count": 2,
   "id": "a6259d9f",
   "metadata": {},
   "outputs": [],
   "source": [
    "file_path='C://Users//benar//OneDrive//Desktop//Sql Projects//Hospital Mangement//'\n",
    "file_name='Hospital.xlsx'\n"
   ]
  },
  {
   "cell_type": "markdown",
   "id": "5be81b71",
   "metadata": {},
   "source": [
    "## reading excel file using pandas"
   ]
  },
  {
   "cell_type": "code",
   "execution_count": 3,
   "id": "5b4d80c7",
   "metadata": {},
   "outputs": [],
   "source": [
    "df=pd.read_excel(file_path+file_name)\n",
    "df1=pd.read_excel(file_path+file_name,sheet_name='Bed_Detail')\n",
    "df2=pd.read_excel(file_path+file_name,sheet_name='Department')\n",
    "df3=pd.read_excel(file_path+file_name,sheet_name='Staff_Detail')"
   ]
  },
  {
   "cell_type": "markdown",
   "id": "b06eb8ae",
   "metadata": {},
   "source": [
    "# merging different data frames"
   ]
  },
  {
   "cell_type": "code",
   "execution_count": 4,
   "id": "b97529b1",
   "metadata": {},
   "outputs": [],
   "source": [
    "# merging original df with df1(which contains bed id and bed number)\n",
    "df_res=pd.merge(left=df,\n",
    "               right=df1,\n",
    "               left_on='Bed_ID',\n",
    "               right_on='Bed_ID',\n",
    "               how='left')"
   ]
  },
  {
   "cell_type": "markdown",
   "id": "174f4d88",
   "metadata": {},
   "source": [
    "## getting first five rows of dataframe"
   ]
  },
  {
   "cell_type": "code",
   "execution_count": 5,
   "id": "ab3c88b5",
   "metadata": {},
   "outputs": [
    {
     "data": {
      "text/html": [
       "<div>\n",
       "<style scoped>\n",
       "    .dataframe tbody tr th:only-of-type {\n",
       "        vertical-align: middle;\n",
       "    }\n",
       "\n",
       "    .dataframe tbody tr th {\n",
       "        vertical-align: top;\n",
       "    }\n",
       "\n",
       "    .dataframe thead th {\n",
       "        text-align: right;\n",
       "    }\n",
       "</style>\n",
       "<table border=\"1\" class=\"dataframe\">\n",
       "  <thead>\n",
       "    <tr style=\"text-align: right;\">\n",
       "      <th></th>\n",
       "      <th>Staff_Id</th>\n",
       "      <th>Bed_ID</th>\n",
       "      <th>Dpt_ID</th>\n",
       "      <th>ID</th>\n",
       "      <th>Name</th>\n",
       "      <th>Gender</th>\n",
       "      <th>City</th>\n",
       "      <th>State</th>\n",
       "      <th>Age</th>\n",
       "      <th>Patient type</th>\n",
       "      <th>...</th>\n",
       "      <th>Bed</th>\n",
       "      <th>LOS</th>\n",
       "      <th>ER_Time</th>\n",
       "      <th>Date</th>\n",
       "      <th>Feedback</th>\n",
       "      <th>Rating</th>\n",
       "      <th>Age Bucket</th>\n",
       "      <th>Custom</th>\n",
       "      <th>FZ me</th>\n",
       "      <th>Bed Number</th>\n",
       "    </tr>\n",
       "  </thead>\n",
       "  <tbody>\n",
       "    <tr>\n",
       "      <th>0</th>\n",
       "      <td>30016</td>\n",
       "      <td>NaN</td>\n",
       "      <td>108</td>\n",
       "      <td>278</td>\n",
       "      <td>Allen, Savannah</td>\n",
       "      <td>F</td>\n",
       "      <td>oxford</td>\n",
       "      <td>California</td>\n",
       "      <td>7</td>\n",
       "      <td>outpatient</td>\n",
       "      <td>...</td>\n",
       "      <td>NaN</td>\n",
       "      <td>0</td>\n",
       "      <td>23.0</td>\n",
       "      <td>2007-10-16</td>\n",
       "      <td>Fully Agree</td>\n",
       "      <td>5.0</td>\n",
       "      <td>6-20Y</td>\n",
       "      <td>Null</td>\n",
       "      <td>Postive</td>\n",
       "      <td>NaN</td>\n",
       "    </tr>\n",
       "    <tr>\n",
       "      <th>1</th>\n",
       "      <td>30032</td>\n",
       "      <td>NaN</td>\n",
       "      <td>108</td>\n",
       "      <td>294</td>\n",
       "      <td>Alonso, Arthur</td>\n",
       "      <td>M</td>\n",
       "      <td>Chula Vista</td>\n",
       "      <td>England</td>\n",
       "      <td>43</td>\n",
       "      <td>outpatient</td>\n",
       "      <td>...</td>\n",
       "      <td>NaN</td>\n",
       "      <td>0</td>\n",
       "      <td>30.0</td>\n",
       "      <td>2007-11-01</td>\n",
       "      <td>Fully Agree</td>\n",
       "      <td>5.0</td>\n",
       "      <td>41-60y</td>\n",
       "      <td>Null</td>\n",
       "      <td>Postive</td>\n",
       "      <td>NaN</td>\n",
       "    </tr>\n",
       "    <tr>\n",
       "      <th>2</th>\n",
       "      <td>30040</td>\n",
       "      <td>NaN</td>\n",
       "      <td>108</td>\n",
       "      <td>302</td>\n",
       "      <td>Alonso, Carrie</td>\n",
       "      <td>F</td>\n",
       "      <td>Royal Oak</td>\n",
       "      <td>Seine (Paris)</td>\n",
       "      <td>2</td>\n",
       "      <td>outpatient</td>\n",
       "      <td>...</td>\n",
       "      <td>NaN</td>\n",
       "      <td>0</td>\n",
       "      <td>36.0</td>\n",
       "      <td>2007-11-09</td>\n",
       "      <td>Fully Agree</td>\n",
       "      <td>5.0</td>\n",
       "      <td>Below 6Y</td>\n",
       "      <td>Null</td>\n",
       "      <td>Postive</td>\n",
       "      <td>NaN</td>\n",
       "    </tr>\n",
       "    <tr>\n",
       "      <th>3</th>\n",
       "      <td>30046</td>\n",
       "      <td>NaN</td>\n",
       "      <td>108</td>\n",
       "      <td>308</td>\n",
       "      <td>Alonso, Danny</td>\n",
       "      <td>M</td>\n",
       "      <td>Royal Oak</td>\n",
       "      <td>Queensland</td>\n",
       "      <td>8</td>\n",
       "      <td>outpatient</td>\n",
       "      <td>...</td>\n",
       "      <td>NaN</td>\n",
       "      <td>0</td>\n",
       "      <td>50.0</td>\n",
       "      <td>2007-11-15</td>\n",
       "      <td>Fully Agree</td>\n",
       "      <td>5.0</td>\n",
       "      <td>6-20Y</td>\n",
       "      <td>Null</td>\n",
       "      <td>Postive</td>\n",
       "      <td>NaN</td>\n",
       "    </tr>\n",
       "    <tr>\n",
       "      <th>4</th>\n",
       "      <td>30052</td>\n",
       "      <td>NaN</td>\n",
       "      <td>108</td>\n",
       "      <td>314</td>\n",
       "      <td>Alonso, Diane</td>\n",
       "      <td>F</td>\n",
       "      <td>Royal Oak</td>\n",
       "      <td>New South Wales</td>\n",
       "      <td>14</td>\n",
       "      <td>outpatient</td>\n",
       "      <td>...</td>\n",
       "      <td>NaN</td>\n",
       "      <td>0</td>\n",
       "      <td>48.0</td>\n",
       "      <td>2007-11-21</td>\n",
       "      <td>Fully Agree</td>\n",
       "      <td>5.0</td>\n",
       "      <td>6-20Y</td>\n",
       "      <td>Null</td>\n",
       "      <td>Postive</td>\n",
       "      <td>NaN</td>\n",
       "    </tr>\n",
       "  </tbody>\n",
       "</table>\n",
       "<p>5 rows × 22 columns</p>\n",
       "</div>"
      ],
      "text/plain": [
       "   Staff_Id  Bed_ID  Dpt_ID   ID             Name Gender         City  \\\n",
       "0     30016     NaN     108  278  Allen, Savannah      F       oxford   \n",
       "1     30032     NaN     108  294   Alonso, Arthur      M  Chula Vista   \n",
       "2     30040     NaN     108  302   Alonso, Carrie      F    Royal Oak   \n",
       "3     30046     NaN     108  308    Alonso, Danny      M    Royal Oak   \n",
       "4     30052     NaN     108  314    Alonso, Diane      F    Royal Oak   \n",
       "\n",
       "             State  Age Patient type  ...  Bed  LOS ER_Time       Date  \\\n",
       "0       California    7   outpatient  ...  NaN    0    23.0 2007-10-16   \n",
       "1          England   43   outpatient  ...  NaN    0    30.0 2007-11-01   \n",
       "2    Seine (Paris)    2   outpatient  ...  NaN    0    36.0 2007-11-09   \n",
       "3       Queensland    8   outpatient  ...  NaN    0    50.0 2007-11-15   \n",
       "4  New South Wales   14   outpatient  ...  NaN    0    48.0 2007-11-21   \n",
       "\n",
       "      Feedback Rating Age Bucket  Custom    FZ me Bed Number  \n",
       "0  Fully Agree    5.0      6-20Y    Null  Postive        NaN  \n",
       "1  Fully Agree    5.0     41-60y    Null  Postive        NaN  \n",
       "2  Fully Agree    5.0   Below 6Y    Null  Postive        NaN  \n",
       "3  Fully Agree    5.0      6-20Y    Null  Postive        NaN  \n",
       "4  Fully Agree    5.0      6-20Y    Null  Postive        NaN  \n",
       "\n",
       "[5 rows x 22 columns]"
      ]
     },
     "execution_count": 5,
     "metadata": {},
     "output_type": "execute_result"
    }
   ],
   "source": [
    "df_res.head()"
   ]
  },
  {
   "cell_type": "code",
   "execution_count": 6,
   "id": "eb9162e8",
   "metadata": {},
   "outputs": [
    {
     "data": {
      "text/html": [
       "<div>\n",
       "<style scoped>\n",
       "    .dataframe tbody tr th:only-of-type {\n",
       "        vertical-align: middle;\n",
       "    }\n",
       "\n",
       "    .dataframe tbody tr th {\n",
       "        vertical-align: top;\n",
       "    }\n",
       "\n",
       "    .dataframe thead th {\n",
       "        text-align: right;\n",
       "    }\n",
       "</style>\n",
       "<table border=\"1\" class=\"dataframe\">\n",
       "  <thead>\n",
       "    <tr style=\"text-align: right;\">\n",
       "      <th></th>\n",
       "      <th>Dpt_ID</th>\n",
       "      <th>Department_Name</th>\n",
       "    </tr>\n",
       "  </thead>\n",
       "  <tbody>\n",
       "    <tr>\n",
       "      <th>0</th>\n",
       "      <td>101</td>\n",
       "      <td>Cardiology</td>\n",
       "    </tr>\n",
       "    <tr>\n",
       "      <th>1</th>\n",
       "      <td>102</td>\n",
       "      <td>Dermatology</td>\n",
       "    </tr>\n",
       "    <tr>\n",
       "      <th>2</th>\n",
       "      <td>103</td>\n",
       "      <td>Gynaecology</td>\n",
       "    </tr>\n",
       "    <tr>\n",
       "      <th>3</th>\n",
       "      <td>104</td>\n",
       "      <td>Neurology</td>\n",
       "    </tr>\n",
       "    <tr>\n",
       "      <th>4</th>\n",
       "      <td>105</td>\n",
       "      <td>oncology</td>\n",
       "    </tr>\n",
       "  </tbody>\n",
       "</table>\n",
       "</div>"
      ],
      "text/plain": [
       "   Dpt_ID Department_Name\n",
       "0     101      Cardiology\n",
       "1     102     Dermatology\n",
       "2     103     Gynaecology\n",
       "3     104       Neurology\n",
       "4     105        oncology"
      ]
     },
     "execution_count": 6,
     "metadata": {},
     "output_type": "execute_result"
    }
   ],
   "source": [
    "df2.head()"
   ]
  },
  {
   "cell_type": "markdown",
   "id": "5b272e53",
   "metadata": {},
   "source": [
    "## continue merge operation"
   ]
  },
  {
   "cell_type": "code",
   "execution_count": 7,
   "id": "93db6fcb",
   "metadata": {},
   "outputs": [],
   "source": [
    "# merging resultant table with department table(which contains department id and department name)\n",
    "df_res2=pd.merge(left=df_res,\n",
    "               right=df2,\n",
    "               left_on='Dpt_ID',\n",
    "               right_on='Dpt_ID',\n",
    "               how='left')"
   ]
  },
  {
   "cell_type": "markdown",
   "id": "35f03833",
   "metadata": {},
   "source": [
    "## getting first five rows from data frame"
   ]
  },
  {
   "cell_type": "code",
   "execution_count": 8,
   "id": "36e8019d",
   "metadata": {},
   "outputs": [
    {
     "data": {
      "text/html": [
       "<div>\n",
       "<style scoped>\n",
       "    .dataframe tbody tr th:only-of-type {\n",
       "        vertical-align: middle;\n",
       "    }\n",
       "\n",
       "    .dataframe tbody tr th {\n",
       "        vertical-align: top;\n",
       "    }\n",
       "\n",
       "    .dataframe thead th {\n",
       "        text-align: right;\n",
       "    }\n",
       "</style>\n",
       "<table border=\"1\" class=\"dataframe\">\n",
       "  <thead>\n",
       "    <tr style=\"text-align: right;\">\n",
       "      <th></th>\n",
       "      <th>Staff_Id</th>\n",
       "      <th>Bed_ID</th>\n",
       "      <th>Dpt_ID</th>\n",
       "      <th>ID</th>\n",
       "      <th>Name</th>\n",
       "      <th>Gender</th>\n",
       "      <th>City</th>\n",
       "      <th>State</th>\n",
       "      <th>Age</th>\n",
       "      <th>Patient type</th>\n",
       "      <th>...</th>\n",
       "      <th>LOS</th>\n",
       "      <th>ER_Time</th>\n",
       "      <th>Date</th>\n",
       "      <th>Feedback</th>\n",
       "      <th>Rating</th>\n",
       "      <th>Age Bucket</th>\n",
       "      <th>Custom</th>\n",
       "      <th>FZ me</th>\n",
       "      <th>Bed Number</th>\n",
       "      <th>Department_Name</th>\n",
       "    </tr>\n",
       "  </thead>\n",
       "  <tbody>\n",
       "    <tr>\n",
       "      <th>0</th>\n",
       "      <td>30016</td>\n",
       "      <td>NaN</td>\n",
       "      <td>108</td>\n",
       "      <td>278</td>\n",
       "      <td>Allen, Savannah</td>\n",
       "      <td>F</td>\n",
       "      <td>oxford</td>\n",
       "      <td>California</td>\n",
       "      <td>7</td>\n",
       "      <td>outpatient</td>\n",
       "      <td>...</td>\n",
       "      <td>0</td>\n",
       "      <td>23.0</td>\n",
       "      <td>2007-10-16</td>\n",
       "      <td>Fully Agree</td>\n",
       "      <td>5.0</td>\n",
       "      <td>6-20Y</td>\n",
       "      <td>Null</td>\n",
       "      <td>Postive</td>\n",
       "      <td>NaN</td>\n",
       "      <td>OPD Outpatient department (OPD)</td>\n",
       "    </tr>\n",
       "    <tr>\n",
       "      <th>1</th>\n",
       "      <td>30032</td>\n",
       "      <td>NaN</td>\n",
       "      <td>108</td>\n",
       "      <td>294</td>\n",
       "      <td>Alonso, Arthur</td>\n",
       "      <td>M</td>\n",
       "      <td>Chula Vista</td>\n",
       "      <td>England</td>\n",
       "      <td>43</td>\n",
       "      <td>outpatient</td>\n",
       "      <td>...</td>\n",
       "      <td>0</td>\n",
       "      <td>30.0</td>\n",
       "      <td>2007-11-01</td>\n",
       "      <td>Fully Agree</td>\n",
       "      <td>5.0</td>\n",
       "      <td>41-60y</td>\n",
       "      <td>Null</td>\n",
       "      <td>Postive</td>\n",
       "      <td>NaN</td>\n",
       "      <td>OPD Outpatient department (OPD)</td>\n",
       "    </tr>\n",
       "    <tr>\n",
       "      <th>2</th>\n",
       "      <td>30040</td>\n",
       "      <td>NaN</td>\n",
       "      <td>108</td>\n",
       "      <td>302</td>\n",
       "      <td>Alonso, Carrie</td>\n",
       "      <td>F</td>\n",
       "      <td>Royal Oak</td>\n",
       "      <td>Seine (Paris)</td>\n",
       "      <td>2</td>\n",
       "      <td>outpatient</td>\n",
       "      <td>...</td>\n",
       "      <td>0</td>\n",
       "      <td>36.0</td>\n",
       "      <td>2007-11-09</td>\n",
       "      <td>Fully Agree</td>\n",
       "      <td>5.0</td>\n",
       "      <td>Below 6Y</td>\n",
       "      <td>Null</td>\n",
       "      <td>Postive</td>\n",
       "      <td>NaN</td>\n",
       "      <td>OPD Outpatient department (OPD)</td>\n",
       "    </tr>\n",
       "    <tr>\n",
       "      <th>3</th>\n",
       "      <td>30046</td>\n",
       "      <td>NaN</td>\n",
       "      <td>108</td>\n",
       "      <td>308</td>\n",
       "      <td>Alonso, Danny</td>\n",
       "      <td>M</td>\n",
       "      <td>Royal Oak</td>\n",
       "      <td>Queensland</td>\n",
       "      <td>8</td>\n",
       "      <td>outpatient</td>\n",
       "      <td>...</td>\n",
       "      <td>0</td>\n",
       "      <td>50.0</td>\n",
       "      <td>2007-11-15</td>\n",
       "      <td>Fully Agree</td>\n",
       "      <td>5.0</td>\n",
       "      <td>6-20Y</td>\n",
       "      <td>Null</td>\n",
       "      <td>Postive</td>\n",
       "      <td>NaN</td>\n",
       "      <td>OPD Outpatient department (OPD)</td>\n",
       "    </tr>\n",
       "    <tr>\n",
       "      <th>4</th>\n",
       "      <td>30052</td>\n",
       "      <td>NaN</td>\n",
       "      <td>108</td>\n",
       "      <td>314</td>\n",
       "      <td>Alonso, Diane</td>\n",
       "      <td>F</td>\n",
       "      <td>Royal Oak</td>\n",
       "      <td>New South Wales</td>\n",
       "      <td>14</td>\n",
       "      <td>outpatient</td>\n",
       "      <td>...</td>\n",
       "      <td>0</td>\n",
       "      <td>48.0</td>\n",
       "      <td>2007-11-21</td>\n",
       "      <td>Fully Agree</td>\n",
       "      <td>5.0</td>\n",
       "      <td>6-20Y</td>\n",
       "      <td>Null</td>\n",
       "      <td>Postive</td>\n",
       "      <td>NaN</td>\n",
       "      <td>OPD Outpatient department (OPD)</td>\n",
       "    </tr>\n",
       "  </tbody>\n",
       "</table>\n",
       "<p>5 rows × 23 columns</p>\n",
       "</div>"
      ],
      "text/plain": [
       "   Staff_Id  Bed_ID  Dpt_ID   ID             Name Gender         City  \\\n",
       "0     30016     NaN     108  278  Allen, Savannah      F       oxford   \n",
       "1     30032     NaN     108  294   Alonso, Arthur      M  Chula Vista   \n",
       "2     30040     NaN     108  302   Alonso, Carrie      F    Royal Oak   \n",
       "3     30046     NaN     108  308    Alonso, Danny      M    Royal Oak   \n",
       "4     30052     NaN     108  314    Alonso, Diane      F    Royal Oak   \n",
       "\n",
       "             State  Age Patient type  ... LOS  ER_Time       Date  \\\n",
       "0       California    7   outpatient  ...   0     23.0 2007-10-16   \n",
       "1          England   43   outpatient  ...   0     30.0 2007-11-01   \n",
       "2    Seine (Paris)    2   outpatient  ...   0     36.0 2007-11-09   \n",
       "3       Queensland    8   outpatient  ...   0     50.0 2007-11-15   \n",
       "4  New South Wales   14   outpatient  ...   0     48.0 2007-11-21   \n",
       "\n",
       "      Feedback  Rating Age Bucket Custom    FZ me Bed Number  \\\n",
       "0  Fully Agree     5.0      6-20Y   Null  Postive        NaN   \n",
       "1  Fully Agree     5.0     41-60y   Null  Postive        NaN   \n",
       "2  Fully Agree     5.0   Below 6Y   Null  Postive        NaN   \n",
       "3  Fully Agree     5.0      6-20Y   Null  Postive        NaN   \n",
       "4  Fully Agree     5.0      6-20Y   Null  Postive        NaN   \n",
       "\n",
       "                   Department_Name  \n",
       "0  OPD Outpatient department (OPD)  \n",
       "1  OPD Outpatient department (OPD)  \n",
       "2  OPD Outpatient department (OPD)  \n",
       "3  OPD Outpatient department (OPD)  \n",
       "4  OPD Outpatient department (OPD)  \n",
       "\n",
       "[5 rows x 23 columns]"
      ]
     },
     "execution_count": 8,
     "metadata": {},
     "output_type": "execute_result"
    }
   ],
   "source": [
    "df_res2.head()"
   ]
  },
  {
   "cell_type": "code",
   "execution_count": 9,
   "id": "53c929e0",
   "metadata": {},
   "outputs": [
    {
     "data": {
      "text/html": [
       "<div>\n",
       "<style scoped>\n",
       "    .dataframe tbody tr th:only-of-type {\n",
       "        vertical-align: middle;\n",
       "    }\n",
       "\n",
       "    .dataframe tbody tr th {\n",
       "        vertical-align: top;\n",
       "    }\n",
       "\n",
       "    .dataframe thead th {\n",
       "        text-align: right;\n",
       "    }\n",
       "</style>\n",
       "<table border=\"1\" class=\"dataframe\">\n",
       "  <thead>\n",
       "    <tr style=\"text-align: right;\">\n",
       "      <th></th>\n",
       "      <th>Staff_Id</th>\n",
       "      <th>Staff Name</th>\n",
       "    </tr>\n",
       "  </thead>\n",
       "  <tbody>\n",
       "    <tr>\n",
       "      <th>0</th>\n",
       "      <td>30001</td>\n",
       "      <td>f1</td>\n",
       "    </tr>\n",
       "    <tr>\n",
       "      <th>1</th>\n",
       "      <td>30002</td>\n",
       "      <td>f2</td>\n",
       "    </tr>\n",
       "    <tr>\n",
       "      <th>2</th>\n",
       "      <td>30003</td>\n",
       "      <td>f3</td>\n",
       "    </tr>\n",
       "    <tr>\n",
       "      <th>3</th>\n",
       "      <td>30004</td>\n",
       "      <td>f4</td>\n",
       "    </tr>\n",
       "    <tr>\n",
       "      <th>4</th>\n",
       "      <td>30005</td>\n",
       "      <td>f5</td>\n",
       "    </tr>\n",
       "  </tbody>\n",
       "</table>\n",
       "</div>"
      ],
      "text/plain": [
       "   Staff_Id Staff Name\n",
       "0     30001         f1\n",
       "1     30002         f2\n",
       "2     30003         f3\n",
       "3     30004         f4\n",
       "4     30005         f5"
      ]
     },
     "execution_count": 9,
     "metadata": {},
     "output_type": "execute_result"
    }
   ],
   "source": [
    "df3.head()"
   ]
  },
  {
   "cell_type": "code",
   "execution_count": 10,
   "id": "6389096c",
   "metadata": {},
   "outputs": [],
   "source": [
    "#merging resultant merged table with the staff table(wich contain staff_id and staff name)\n",
    "df_fin=pd.merge(left=df_res2,\n",
    "               right=df3,\n",
    "               left_on='Staff_Id',\n",
    "               right_on='Staff_Id',\n",
    "               how='left')"
   ]
  },
  {
   "cell_type": "code",
   "execution_count": 11,
   "id": "3174deeb",
   "metadata": {},
   "outputs": [
    {
     "data": {
      "text/html": [
       "<div>\n",
       "<style scoped>\n",
       "    .dataframe tbody tr th:only-of-type {\n",
       "        vertical-align: middle;\n",
       "    }\n",
       "\n",
       "    .dataframe tbody tr th {\n",
       "        vertical-align: top;\n",
       "    }\n",
       "\n",
       "    .dataframe thead th {\n",
       "        text-align: right;\n",
       "    }\n",
       "</style>\n",
       "<table border=\"1\" class=\"dataframe\">\n",
       "  <thead>\n",
       "    <tr style=\"text-align: right;\">\n",
       "      <th></th>\n",
       "      <th>Staff_Id</th>\n",
       "      <th>Bed_ID</th>\n",
       "      <th>Dpt_ID</th>\n",
       "      <th>ID</th>\n",
       "      <th>Name</th>\n",
       "      <th>Gender</th>\n",
       "      <th>City</th>\n",
       "      <th>State</th>\n",
       "      <th>Age</th>\n",
       "      <th>Patient type</th>\n",
       "      <th>...</th>\n",
       "      <th>ER_Time</th>\n",
       "      <th>Date</th>\n",
       "      <th>Feedback</th>\n",
       "      <th>Rating</th>\n",
       "      <th>Age Bucket</th>\n",
       "      <th>Custom</th>\n",
       "      <th>FZ me</th>\n",
       "      <th>Bed Number</th>\n",
       "      <th>Department_Name</th>\n",
       "      <th>Staff Name</th>\n",
       "    </tr>\n",
       "  </thead>\n",
       "  <tbody>\n",
       "    <tr>\n",
       "      <th>0</th>\n",
       "      <td>30016</td>\n",
       "      <td>NaN</td>\n",
       "      <td>108</td>\n",
       "      <td>278</td>\n",
       "      <td>Allen, Savannah</td>\n",
       "      <td>F</td>\n",
       "      <td>oxford</td>\n",
       "      <td>California</td>\n",
       "      <td>7</td>\n",
       "      <td>outpatient</td>\n",
       "      <td>...</td>\n",
       "      <td>23.0</td>\n",
       "      <td>2007-10-16</td>\n",
       "      <td>Fully Agree</td>\n",
       "      <td>5.0</td>\n",
       "      <td>6-20Y</td>\n",
       "      <td>Null</td>\n",
       "      <td>Postive</td>\n",
       "      <td>NaN</td>\n",
       "      <td>OPD Outpatient department (OPD)</td>\n",
       "      <td>f16</td>\n",
       "    </tr>\n",
       "    <tr>\n",
       "      <th>1</th>\n",
       "      <td>30032</td>\n",
       "      <td>NaN</td>\n",
       "      <td>108</td>\n",
       "      <td>294</td>\n",
       "      <td>Alonso, Arthur</td>\n",
       "      <td>M</td>\n",
       "      <td>Chula Vista</td>\n",
       "      <td>England</td>\n",
       "      <td>43</td>\n",
       "      <td>outpatient</td>\n",
       "      <td>...</td>\n",
       "      <td>30.0</td>\n",
       "      <td>2007-11-01</td>\n",
       "      <td>Fully Agree</td>\n",
       "      <td>5.0</td>\n",
       "      <td>41-60y</td>\n",
       "      <td>Null</td>\n",
       "      <td>Postive</td>\n",
       "      <td>NaN</td>\n",
       "      <td>OPD Outpatient department (OPD)</td>\n",
       "      <td>f32</td>\n",
       "    </tr>\n",
       "    <tr>\n",
       "      <th>2</th>\n",
       "      <td>30040</td>\n",
       "      <td>NaN</td>\n",
       "      <td>108</td>\n",
       "      <td>302</td>\n",
       "      <td>Alonso, Carrie</td>\n",
       "      <td>F</td>\n",
       "      <td>Royal Oak</td>\n",
       "      <td>Seine (Paris)</td>\n",
       "      <td>2</td>\n",
       "      <td>outpatient</td>\n",
       "      <td>...</td>\n",
       "      <td>36.0</td>\n",
       "      <td>2007-11-09</td>\n",
       "      <td>Fully Agree</td>\n",
       "      <td>5.0</td>\n",
       "      <td>Below 6Y</td>\n",
       "      <td>Null</td>\n",
       "      <td>Postive</td>\n",
       "      <td>NaN</td>\n",
       "      <td>OPD Outpatient department (OPD)</td>\n",
       "      <td>f40</td>\n",
       "    </tr>\n",
       "    <tr>\n",
       "      <th>3</th>\n",
       "      <td>30046</td>\n",
       "      <td>NaN</td>\n",
       "      <td>108</td>\n",
       "      <td>308</td>\n",
       "      <td>Alonso, Danny</td>\n",
       "      <td>M</td>\n",
       "      <td>Royal Oak</td>\n",
       "      <td>Queensland</td>\n",
       "      <td>8</td>\n",
       "      <td>outpatient</td>\n",
       "      <td>...</td>\n",
       "      <td>50.0</td>\n",
       "      <td>2007-11-15</td>\n",
       "      <td>Fully Agree</td>\n",
       "      <td>5.0</td>\n",
       "      <td>6-20Y</td>\n",
       "      <td>Null</td>\n",
       "      <td>Postive</td>\n",
       "      <td>NaN</td>\n",
       "      <td>OPD Outpatient department (OPD)</td>\n",
       "      <td>f46</td>\n",
       "    </tr>\n",
       "    <tr>\n",
       "      <th>4</th>\n",
       "      <td>30052</td>\n",
       "      <td>NaN</td>\n",
       "      <td>108</td>\n",
       "      <td>314</td>\n",
       "      <td>Alonso, Diane</td>\n",
       "      <td>F</td>\n",
       "      <td>Royal Oak</td>\n",
       "      <td>New South Wales</td>\n",
       "      <td>14</td>\n",
       "      <td>outpatient</td>\n",
       "      <td>...</td>\n",
       "      <td>48.0</td>\n",
       "      <td>2007-11-21</td>\n",
       "      <td>Fully Agree</td>\n",
       "      <td>5.0</td>\n",
       "      <td>6-20Y</td>\n",
       "      <td>Null</td>\n",
       "      <td>Postive</td>\n",
       "      <td>NaN</td>\n",
       "      <td>OPD Outpatient department (OPD)</td>\n",
       "      <td>f52</td>\n",
       "    </tr>\n",
       "  </tbody>\n",
       "</table>\n",
       "<p>5 rows × 24 columns</p>\n",
       "</div>"
      ],
      "text/plain": [
       "   Staff_Id  Bed_ID  Dpt_ID   ID             Name Gender         City  \\\n",
       "0     30016     NaN     108  278  Allen, Savannah      F       oxford   \n",
       "1     30032     NaN     108  294   Alonso, Arthur      M  Chula Vista   \n",
       "2     30040     NaN     108  302   Alonso, Carrie      F    Royal Oak   \n",
       "3     30046     NaN     108  308    Alonso, Danny      M    Royal Oak   \n",
       "4     30052     NaN     108  314    Alonso, Diane      F    Royal Oak   \n",
       "\n",
       "             State  Age Patient type  ... ER_Time       Date     Feedback  \\\n",
       "0       California    7   outpatient  ...    23.0 2007-10-16  Fully Agree   \n",
       "1          England   43   outpatient  ...    30.0 2007-11-01  Fully Agree   \n",
       "2    Seine (Paris)    2   outpatient  ...    36.0 2007-11-09  Fully Agree   \n",
       "3       Queensland    8   outpatient  ...    50.0 2007-11-15  Fully Agree   \n",
       "4  New South Wales   14   outpatient  ...    48.0 2007-11-21  Fully Agree   \n",
       "\n",
       "   Rating  Age Bucket Custom    FZ me  Bed Number  \\\n",
       "0     5.0       6-20Y   Null  Postive         NaN   \n",
       "1     5.0      41-60y   Null  Postive         NaN   \n",
       "2     5.0    Below 6Y   Null  Postive         NaN   \n",
       "3     5.0       6-20Y   Null  Postive         NaN   \n",
       "4     5.0       6-20Y   Null  Postive         NaN   \n",
       "\n",
       "                   Department_Name Staff Name  \n",
       "0  OPD Outpatient department (OPD)        f16  \n",
       "1  OPD Outpatient department (OPD)        f32  \n",
       "2  OPD Outpatient department (OPD)        f40  \n",
       "3  OPD Outpatient department (OPD)        f46  \n",
       "4  OPD Outpatient department (OPD)        f52  \n",
       "\n",
       "[5 rows x 24 columns]"
      ]
     },
     "execution_count": 11,
     "metadata": {},
     "output_type": "execute_result"
    }
   ],
   "source": [
    "df_fin.head()"
   ]
  },
  {
   "cell_type": "markdown",
   "id": "bc2fe8ea",
   "metadata": {},
   "source": [
    "## finding dimensions of the dataframe"
   ]
  },
  {
   "cell_type": "code",
   "execution_count": 12,
   "id": "5575e37e",
   "metadata": {},
   "outputs": [
    {
     "data": {
      "text/plain": [
       "(2506, 24)"
      ]
     },
     "execution_count": 12,
     "metadata": {},
     "output_type": "execute_result"
    }
   ],
   "source": [
    "df_fin.shape"
   ]
  },
  {
   "cell_type": "markdown",
   "id": "691236e1",
   "metadata": {},
   "source": [
    "## getting summary of the dataframe"
   ]
  },
  {
   "cell_type": "code",
   "execution_count": 13,
   "id": "678acb9b",
   "metadata": {},
   "outputs": [
    {
     "name": "stdout",
     "output_type": "stream",
     "text": [
      "<class 'pandas.core.frame.DataFrame'>\n",
      "RangeIndex: 2506 entries, 0 to 2505\n",
      "Data columns (total 24 columns):\n",
      " #   Column           Non-Null Count  Dtype         \n",
      "---  ------           --------------  -----         \n",
      " 0   Staff_Id         2506 non-null   int64         \n",
      " 1   Bed_ID           1751 non-null   float64       \n",
      " 2   Dpt_ID           2506 non-null   int64         \n",
      " 3   ID               2506 non-null   int64         \n",
      " 4   Name             2506 non-null   object        \n",
      " 5   Gender           2506 non-null   object        \n",
      " 6   City             2506 non-null   object        \n",
      " 7   State            2506 non-null   object        \n",
      " 8   Age              2506 non-null   int64         \n",
      " 9   Patient type     2506 non-null   object        \n",
      " 10  Status           2506 non-null   object        \n",
      " 11  treatemencost    2506 non-null   float64       \n",
      " 12  Bed              1751 non-null   object        \n",
      " 13  LOS              2506 non-null   int64         \n",
      " 14  ER_Time          1787 non-null   float64       \n",
      " 15  Date             2506 non-null   datetime64[ns]\n",
      " 16  Feedback         2506 non-null   object        \n",
      " 17  Rating           2506 non-null   float64       \n",
      " 18  Age Bucket       2506 non-null   object        \n",
      " 19  Custom           2506 non-null   object        \n",
      " 20  FZ me            2506 non-null   object        \n",
      " 21  Bed Number       1751 non-null   object        \n",
      " 22  Department_Name  2506 non-null   object        \n",
      " 23  Staff Name       2506 non-null   object        \n",
      "dtypes: datetime64[ns](1), float64(4), int64(5), object(14)\n",
      "memory usage: 470.0+ KB\n"
     ]
    }
   ],
   "source": [
    "df_fin.info()"
   ]
  },
  {
   "cell_type": "markdown",
   "id": "0a272b0e",
   "metadata": {},
   "source": [
    "## counting null values in dataframe for each column"
   ]
  },
  {
   "cell_type": "code",
   "execution_count": 14,
   "id": "ad52a03b",
   "metadata": {},
   "outputs": [
    {
     "data": {
      "text/plain": [
       "Staff_Id             0\n",
       "Bed_ID             755\n",
       "Dpt_ID               0\n",
       "ID                   0\n",
       "Name                 0\n",
       "Gender               0\n",
       "City                 0\n",
       "State                0\n",
       "Age                  0\n",
       "Patient type         0\n",
       "Status               0\n",
       "treatemencost        0\n",
       "Bed                755\n",
       "LOS                  0\n",
       "ER_Time            719\n",
       "Date                 0\n",
       "Feedback             0\n",
       "Rating               0\n",
       "Age Bucket           0\n",
       "Custom               0\n",
       "FZ me                0\n",
       "Bed Number         755\n",
       "Department_Name      0\n",
       "Staff Name           0\n",
       "dtype: int64"
      ]
     },
     "execution_count": 14,
     "metadata": {},
     "output_type": "execute_result"
    }
   ],
   "source": [
    "df_fin.isnull().sum()"
   ]
  },
  {
   "cell_type": "markdown",
   "id": "9aebec05",
   "metadata": {},
   "source": [
    "## calculating percentage of null values in the columns "
   ]
  },
  {
   "cell_type": "code",
   "execution_count": 15,
   "id": "aeaed14b",
   "metadata": {},
   "outputs": [
    {
     "data": {
      "text/plain": [
       "Staff_Id            0.000000\n",
       "Bed_ID             30.127694\n",
       "Dpt_ID              0.000000\n",
       "ID                  0.000000\n",
       "Name                0.000000\n",
       "Gender              0.000000\n",
       "City                0.000000\n",
       "State               0.000000\n",
       "Age                 0.000000\n",
       "Patient type        0.000000\n",
       "Status              0.000000\n",
       "treatemencost       0.000000\n",
       "Bed                30.127694\n",
       "LOS                 0.000000\n",
       "ER_Time            28.691141\n",
       "Date                0.000000\n",
       "Feedback            0.000000\n",
       "Rating              0.000000\n",
       "Age Bucket          0.000000\n",
       "Custom              0.000000\n",
       "FZ me               0.000000\n",
       "Bed Number         30.127694\n",
       "Department_Name     0.000000\n",
       "Staff Name          0.000000\n",
       "dtype: float64"
      ]
     },
     "execution_count": 15,
     "metadata": {},
     "output_type": "execute_result"
    }
   ],
   "source": [
    "# percentage of null values in the columns\n",
    "\n",
    "(df_fin.isnull().sum()/len(df_fin))*100"
   ]
  },
  {
   "cell_type": "markdown",
   "id": "a600f507",
   "metadata": {},
   "source": [
    "## finding duplicate rows in the dataframe"
   ]
  },
  {
   "cell_type": "code",
   "execution_count": 16,
   "id": "8552126a",
   "metadata": {},
   "outputs": [
    {
     "data": {
      "text/plain": [
       "2506"
      ]
     },
     "execution_count": 16,
     "metadata": {},
     "output_type": "execute_result"
    }
   ],
   "source": [
    "# finding duplicates\n",
    "\n",
    "len(df_fin[df_fin.duplicated()==False])\n",
    "\n",
    "# we conclude that there are no duplicate records in the dataset"
   ]
  },
  {
   "cell_type": "markdown",
   "id": "90126627",
   "metadata": {},
   "source": [
    "## dropping duplicates if any"
   ]
  },
  {
   "cell_type": "code",
   "execution_count": 17,
   "id": "adbdce1b",
   "metadata": {},
   "outputs": [
    {
     "data": {
      "text/html": [
       "<div>\n",
       "<style scoped>\n",
       "    .dataframe tbody tr th:only-of-type {\n",
       "        vertical-align: middle;\n",
       "    }\n",
       "\n",
       "    .dataframe tbody tr th {\n",
       "        vertical-align: top;\n",
       "    }\n",
       "\n",
       "    .dataframe thead th {\n",
       "        text-align: right;\n",
       "    }\n",
       "</style>\n",
       "<table border=\"1\" class=\"dataframe\">\n",
       "  <thead>\n",
       "    <tr style=\"text-align: right;\">\n",
       "      <th></th>\n",
       "      <th>Staff_Id</th>\n",
       "      <th>Bed_ID</th>\n",
       "      <th>Dpt_ID</th>\n",
       "      <th>ID</th>\n",
       "      <th>Name</th>\n",
       "      <th>Gender</th>\n",
       "      <th>City</th>\n",
       "      <th>State</th>\n",
       "      <th>Age</th>\n",
       "      <th>Patient type</th>\n",
       "      <th>...</th>\n",
       "      <th>ER_Time</th>\n",
       "      <th>Date</th>\n",
       "      <th>Feedback</th>\n",
       "      <th>Rating</th>\n",
       "      <th>Age Bucket</th>\n",
       "      <th>Custom</th>\n",
       "      <th>FZ me</th>\n",
       "      <th>Bed Number</th>\n",
       "      <th>Department_Name</th>\n",
       "      <th>Staff Name</th>\n",
       "    </tr>\n",
       "  </thead>\n",
       "  <tbody>\n",
       "    <tr>\n",
       "      <th>0</th>\n",
       "      <td>30016</td>\n",
       "      <td>NaN</td>\n",
       "      <td>108</td>\n",
       "      <td>278</td>\n",
       "      <td>Allen, Savannah</td>\n",
       "      <td>F</td>\n",
       "      <td>oxford</td>\n",
       "      <td>California</td>\n",
       "      <td>7</td>\n",
       "      <td>outpatient</td>\n",
       "      <td>...</td>\n",
       "      <td>23.0</td>\n",
       "      <td>2007-10-16</td>\n",
       "      <td>Fully Agree</td>\n",
       "      <td>5.0</td>\n",
       "      <td>6-20Y</td>\n",
       "      <td>Null</td>\n",
       "      <td>Postive</td>\n",
       "      <td>NaN</td>\n",
       "      <td>OPD Outpatient department (OPD)</td>\n",
       "      <td>f16</td>\n",
       "    </tr>\n",
       "    <tr>\n",
       "      <th>1</th>\n",
       "      <td>30032</td>\n",
       "      <td>NaN</td>\n",
       "      <td>108</td>\n",
       "      <td>294</td>\n",
       "      <td>Alonso, Arthur</td>\n",
       "      <td>M</td>\n",
       "      <td>Chula Vista</td>\n",
       "      <td>England</td>\n",
       "      <td>43</td>\n",
       "      <td>outpatient</td>\n",
       "      <td>...</td>\n",
       "      <td>30.0</td>\n",
       "      <td>2007-11-01</td>\n",
       "      <td>Fully Agree</td>\n",
       "      <td>5.0</td>\n",
       "      <td>41-60y</td>\n",
       "      <td>Null</td>\n",
       "      <td>Postive</td>\n",
       "      <td>NaN</td>\n",
       "      <td>OPD Outpatient department (OPD)</td>\n",
       "      <td>f32</td>\n",
       "    </tr>\n",
       "    <tr>\n",
       "      <th>2</th>\n",
       "      <td>30040</td>\n",
       "      <td>NaN</td>\n",
       "      <td>108</td>\n",
       "      <td>302</td>\n",
       "      <td>Alonso, Carrie</td>\n",
       "      <td>F</td>\n",
       "      <td>Royal Oak</td>\n",
       "      <td>Seine (Paris)</td>\n",
       "      <td>2</td>\n",
       "      <td>outpatient</td>\n",
       "      <td>...</td>\n",
       "      <td>36.0</td>\n",
       "      <td>2007-11-09</td>\n",
       "      <td>Fully Agree</td>\n",
       "      <td>5.0</td>\n",
       "      <td>Below 6Y</td>\n",
       "      <td>Null</td>\n",
       "      <td>Postive</td>\n",
       "      <td>NaN</td>\n",
       "      <td>OPD Outpatient department (OPD)</td>\n",
       "      <td>f40</td>\n",
       "    </tr>\n",
       "    <tr>\n",
       "      <th>3</th>\n",
       "      <td>30046</td>\n",
       "      <td>NaN</td>\n",
       "      <td>108</td>\n",
       "      <td>308</td>\n",
       "      <td>Alonso, Danny</td>\n",
       "      <td>M</td>\n",
       "      <td>Royal Oak</td>\n",
       "      <td>Queensland</td>\n",
       "      <td>8</td>\n",
       "      <td>outpatient</td>\n",
       "      <td>...</td>\n",
       "      <td>50.0</td>\n",
       "      <td>2007-11-15</td>\n",
       "      <td>Fully Agree</td>\n",
       "      <td>5.0</td>\n",
       "      <td>6-20Y</td>\n",
       "      <td>Null</td>\n",
       "      <td>Postive</td>\n",
       "      <td>NaN</td>\n",
       "      <td>OPD Outpatient department (OPD)</td>\n",
       "      <td>f46</td>\n",
       "    </tr>\n",
       "    <tr>\n",
       "      <th>4</th>\n",
       "      <td>30052</td>\n",
       "      <td>NaN</td>\n",
       "      <td>108</td>\n",
       "      <td>314</td>\n",
       "      <td>Alonso, Diane</td>\n",
       "      <td>F</td>\n",
       "      <td>Royal Oak</td>\n",
       "      <td>New South Wales</td>\n",
       "      <td>14</td>\n",
       "      <td>outpatient</td>\n",
       "      <td>...</td>\n",
       "      <td>48.0</td>\n",
       "      <td>2007-11-21</td>\n",
       "      <td>Fully Agree</td>\n",
       "      <td>5.0</td>\n",
       "      <td>6-20Y</td>\n",
       "      <td>Null</td>\n",
       "      <td>Postive</td>\n",
       "      <td>NaN</td>\n",
       "      <td>OPD Outpatient department (OPD)</td>\n",
       "      <td>f52</td>\n",
       "    </tr>\n",
       "    <tr>\n",
       "      <th>...</th>\n",
       "      <td>...</td>\n",
       "      <td>...</td>\n",
       "      <td>...</td>\n",
       "      <td>...</td>\n",
       "      <td>...</td>\n",
       "      <td>...</td>\n",
       "      <td>...</td>\n",
       "      <td>...</td>\n",
       "      <td>...</td>\n",
       "      <td>...</td>\n",
       "      <td>...</td>\n",
       "      <td>...</td>\n",
       "      <td>...</td>\n",
       "      <td>...</td>\n",
       "      <td>...</td>\n",
       "      <td>...</td>\n",
       "      <td>...</td>\n",
       "      <td>...</td>\n",
       "      <td>...</td>\n",
       "      <td>...</td>\n",
       "      <td>...</td>\n",
       "    </tr>\n",
       "    <tr>\n",
       "      <th>2501</th>\n",
       "      <td>30219</td>\n",
       "      <td>21735.0</td>\n",
       "      <td>109</td>\n",
       "      <td>2053</td>\n",
       "      <td>Carlson, Armando</td>\n",
       "      <td>M</td>\n",
       "      <td>Cliffside</td>\n",
       "      <td>British Columbia</td>\n",
       "      <td>2</td>\n",
       "      <td>Inpatient</td>\n",
       "      <td>...</td>\n",
       "      <td>NaN</td>\n",
       "      <td>2007-03-16</td>\n",
       "      <td>Fully Agree</td>\n",
       "      <td>5.0</td>\n",
       "      <td>Below 6Y</td>\n",
       "      <td>1-2D</td>\n",
       "      <td>Postive</td>\n",
       "      <td>X1735</td>\n",
       "      <td>Physical Medicine and Rehabilitation Department</td>\n",
       "      <td>f219</td>\n",
       "    </tr>\n",
       "    <tr>\n",
       "      <th>2502</th>\n",
       "      <td>30220</td>\n",
       "      <td>21736.0</td>\n",
       "      <td>109</td>\n",
       "      <td>2054</td>\n",
       "      <td>Carlson, Arthur</td>\n",
       "      <td>M</td>\n",
       "      <td>Cliffside</td>\n",
       "      <td>British Columbia</td>\n",
       "      <td>2</td>\n",
       "      <td>Inpatient</td>\n",
       "      <td>...</td>\n",
       "      <td>NaN</td>\n",
       "      <td>2007-05-20</td>\n",
       "      <td>Fully Agree</td>\n",
       "      <td>5.0</td>\n",
       "      <td>Below 6Y</td>\n",
       "      <td>1-2D</td>\n",
       "      <td>Postive</td>\n",
       "      <td>X1736</td>\n",
       "      <td>Physical Medicine and Rehabilitation Department</td>\n",
       "      <td>f220</td>\n",
       "    </tr>\n",
       "    <tr>\n",
       "      <th>2503</th>\n",
       "      <td>30223</td>\n",
       "      <td>21739.0</td>\n",
       "      <td>109</td>\n",
       "      <td>2057</td>\n",
       "      <td>Carlson, Billy</td>\n",
       "      <td>M</td>\n",
       "      <td>Cliffside</td>\n",
       "      <td>British Columbia</td>\n",
       "      <td>2</td>\n",
       "      <td>Inpatient</td>\n",
       "      <td>...</td>\n",
       "      <td>NaN</td>\n",
       "      <td>2007-01-24</td>\n",
       "      <td>Fully Agree</td>\n",
       "      <td>5.0</td>\n",
       "      <td>Below 6Y</td>\n",
       "      <td>1-2D</td>\n",
       "      <td>Postive</td>\n",
       "      <td>X1739</td>\n",
       "      <td>Physical Medicine and Rehabilitation Department</td>\n",
       "      <td>f223</td>\n",
       "    </tr>\n",
       "    <tr>\n",
       "      <th>2504</th>\n",
       "      <td>30226</td>\n",
       "      <td>21742.0</td>\n",
       "      <td>109</td>\n",
       "      <td>2060</td>\n",
       "      <td>Carlson, Bruce</td>\n",
       "      <td>M</td>\n",
       "      <td>Cliffside</td>\n",
       "      <td>British Columbia</td>\n",
       "      <td>2</td>\n",
       "      <td>Inpatient</td>\n",
       "      <td>...</td>\n",
       "      <td>NaN</td>\n",
       "      <td>2007-04-16</td>\n",
       "      <td>Fully Agree</td>\n",
       "      <td>5.0</td>\n",
       "      <td>Below 6Y</td>\n",
       "      <td>1-2D</td>\n",
       "      <td>Postive</td>\n",
       "      <td>X1742</td>\n",
       "      <td>Physical Medicine and Rehabilitation Department</td>\n",
       "      <td>f226</td>\n",
       "    </tr>\n",
       "    <tr>\n",
       "      <th>2505</th>\n",
       "      <td>30227</td>\n",
       "      <td>21743.0</td>\n",
       "      <td>109</td>\n",
       "      <td>2061</td>\n",
       "      <td>Carlson, Byron</td>\n",
       "      <td>M</td>\n",
       "      <td>Cliffside</td>\n",
       "      <td>British Columbia</td>\n",
       "      <td>2</td>\n",
       "      <td>Inpatient</td>\n",
       "      <td>...</td>\n",
       "      <td>NaN</td>\n",
       "      <td>2007-12-25</td>\n",
       "      <td>Fully Agree</td>\n",
       "      <td>5.0</td>\n",
       "      <td>Below 6Y</td>\n",
       "      <td>1-2D</td>\n",
       "      <td>Postive</td>\n",
       "      <td>X1743</td>\n",
       "      <td>Physical Medicine and Rehabilitation Department</td>\n",
       "      <td>f227</td>\n",
       "    </tr>\n",
       "  </tbody>\n",
       "</table>\n",
       "<p>2506 rows × 24 columns</p>\n",
       "</div>"
      ],
      "text/plain": [
       "      Staff_Id   Bed_ID  Dpt_ID    ID              Name Gender         City  \\\n",
       "0        30016      NaN     108   278   Allen, Savannah      F       oxford   \n",
       "1        30032      NaN     108   294    Alonso, Arthur      M  Chula Vista   \n",
       "2        30040      NaN     108   302    Alonso, Carrie      F    Royal Oak   \n",
       "3        30046      NaN     108   308     Alonso, Danny      M    Royal Oak   \n",
       "4        30052      NaN     108   314     Alonso, Diane      F    Royal Oak   \n",
       "...        ...      ...     ...   ...               ...    ...          ...   \n",
       "2501     30219  21735.0     109  2053  Carlson, Armando      M    Cliffside   \n",
       "2502     30220  21736.0     109  2054   Carlson, Arthur      M    Cliffside   \n",
       "2503     30223  21739.0     109  2057    Carlson, Billy      M    Cliffside   \n",
       "2504     30226  21742.0     109  2060    Carlson, Bruce      M    Cliffside   \n",
       "2505     30227  21743.0     109  2061    Carlson, Byron      M    Cliffside   \n",
       "\n",
       "                 State  Age Patient type  ... ER_Time       Date     Feedback  \\\n",
       "0           California    7   outpatient  ...    23.0 2007-10-16  Fully Agree   \n",
       "1              England   43   outpatient  ...    30.0 2007-11-01  Fully Agree   \n",
       "2        Seine (Paris)    2   outpatient  ...    36.0 2007-11-09  Fully Agree   \n",
       "3           Queensland    8   outpatient  ...    50.0 2007-11-15  Fully Agree   \n",
       "4      New South Wales   14   outpatient  ...    48.0 2007-11-21  Fully Agree   \n",
       "...                ...  ...          ...  ...     ...        ...          ...   \n",
       "2501  British Columbia    2    Inpatient  ...     NaN 2007-03-16  Fully Agree   \n",
       "2502  British Columbia    2    Inpatient  ...     NaN 2007-05-20  Fully Agree   \n",
       "2503  British Columbia    2    Inpatient  ...     NaN 2007-01-24  Fully Agree   \n",
       "2504  British Columbia    2    Inpatient  ...     NaN 2007-04-16  Fully Agree   \n",
       "2505  British Columbia    2    Inpatient  ...     NaN 2007-12-25  Fully Agree   \n",
       "\n",
       "      Rating  Age Bucket Custom    FZ me  Bed Number  \\\n",
       "0        5.0       6-20Y   Null  Postive         NaN   \n",
       "1        5.0      41-60y   Null  Postive         NaN   \n",
       "2        5.0    Below 6Y   Null  Postive         NaN   \n",
       "3        5.0       6-20Y   Null  Postive         NaN   \n",
       "4        5.0       6-20Y   Null  Postive         NaN   \n",
       "...      ...         ...    ...      ...         ...   \n",
       "2501     5.0    Below 6Y   1-2D  Postive       X1735   \n",
       "2502     5.0    Below 6Y   1-2D  Postive       X1736   \n",
       "2503     5.0    Below 6Y   1-2D  Postive       X1739   \n",
       "2504     5.0    Below 6Y   1-2D  Postive       X1742   \n",
       "2505     5.0    Below 6Y   1-2D  Postive       X1743   \n",
       "\n",
       "                                      Department_Name Staff Name  \n",
       "0                     OPD Outpatient department (OPD)        f16  \n",
       "1                     OPD Outpatient department (OPD)        f32  \n",
       "2                     OPD Outpatient department (OPD)        f40  \n",
       "3                     OPD Outpatient department (OPD)        f46  \n",
       "4                     OPD Outpatient department (OPD)        f52  \n",
       "...                                               ...        ...  \n",
       "2501  Physical Medicine and Rehabilitation Department       f219  \n",
       "2502  Physical Medicine and Rehabilitation Department       f220  \n",
       "2503  Physical Medicine and Rehabilitation Department       f223  \n",
       "2504  Physical Medicine and Rehabilitation Department       f226  \n",
       "2505  Physical Medicine and Rehabilitation Department       f227  \n",
       "\n",
       "[2506 rows x 24 columns]"
      ]
     },
     "execution_count": 17,
     "metadata": {},
     "output_type": "execute_result"
    }
   ],
   "source": [
    "df_fin.drop_duplicates()"
   ]
  },
  {
   "cell_type": "markdown",
   "id": "a208b692",
   "metadata": {},
   "source": [
    "## replacing null values of ER_Time with mean value of the column"
   ]
  },
  {
   "cell_type": "code",
   "execution_count": 18,
   "id": "2e97060b",
   "metadata": {},
   "outputs": [],
   "source": [
    "df_fin['ER_Time'].fillna(df_fin['ER_Time'].mean(),inplace=True)"
   ]
  },
  {
   "cell_type": "markdown",
   "id": "3abef3c6",
   "metadata": {},
   "source": [
    "## calculating sum of null values"
   ]
  },
  {
   "cell_type": "code",
   "execution_count": 19,
   "id": "ba92cb35",
   "metadata": {},
   "outputs": [
    {
     "data": {
      "text/plain": [
       "Staff_Id             0\n",
       "Bed_ID             755\n",
       "Dpt_ID               0\n",
       "ID                   0\n",
       "Name                 0\n",
       "Gender               0\n",
       "City                 0\n",
       "State                0\n",
       "Age                  0\n",
       "Patient type         0\n",
       "Status               0\n",
       "treatemencost        0\n",
       "Bed                755\n",
       "LOS                  0\n",
       "ER_Time              0\n",
       "Date                 0\n",
       "Feedback             0\n",
       "Rating               0\n",
       "Age Bucket           0\n",
       "Custom               0\n",
       "FZ me                0\n",
       "Bed Number         755\n",
       "Department_Name      0\n",
       "Staff Name           0\n",
       "dtype: int64"
      ]
     },
     "execution_count": 19,
     "metadata": {},
     "output_type": "execute_result"
    }
   ],
   "source": [
    "df_fin.isnull().sum()"
   ]
  },
  {
   "cell_type": "code",
   "execution_count": 20,
   "id": "1f2d7977",
   "metadata": {},
   "outputs": [
    {
     "data": {
      "text/html": [
       "<div>\n",
       "<style scoped>\n",
       "    .dataframe tbody tr th:only-of-type {\n",
       "        vertical-align: middle;\n",
       "    }\n",
       "\n",
       "    .dataframe tbody tr th {\n",
       "        vertical-align: top;\n",
       "    }\n",
       "\n",
       "    .dataframe thead th {\n",
       "        text-align: right;\n",
       "    }\n",
       "</style>\n",
       "<table border=\"1\" class=\"dataframe\">\n",
       "  <thead>\n",
       "    <tr style=\"text-align: right;\">\n",
       "      <th></th>\n",
       "      <th>Staff_Id</th>\n",
       "      <th>Bed_ID</th>\n",
       "      <th>Dpt_ID</th>\n",
       "      <th>ID</th>\n",
       "      <th>Name</th>\n",
       "      <th>Gender</th>\n",
       "      <th>City</th>\n",
       "      <th>State</th>\n",
       "      <th>Age</th>\n",
       "      <th>Patient type</th>\n",
       "      <th>...</th>\n",
       "      <th>ER_Time</th>\n",
       "      <th>Date</th>\n",
       "      <th>Feedback</th>\n",
       "      <th>Rating</th>\n",
       "      <th>Age Bucket</th>\n",
       "      <th>Custom</th>\n",
       "      <th>FZ me</th>\n",
       "      <th>Bed Number</th>\n",
       "      <th>Department_Name</th>\n",
       "      <th>Staff Name</th>\n",
       "    </tr>\n",
       "  </thead>\n",
       "  <tbody>\n",
       "    <tr>\n",
       "      <th>750</th>\n",
       "      <td>30086</td>\n",
       "      <td>NaN</td>\n",
       "      <td>108</td>\n",
       "      <td>610</td>\n",
       "      <td>Andersen, Kenneth</td>\n",
       "      <td>M</td>\n",
       "      <td>Downey</td>\n",
       "      <td>Bavaria</td>\n",
       "      <td>53</td>\n",
       "      <td>outpatient</td>\n",
       "      <td>...</td>\n",
       "      <td>36.0</td>\n",
       "      <td>2007-03-09</td>\n",
       "      <td>Rather Disagree</td>\n",
       "      <td>2.0</td>\n",
       "      <td>41-60y</td>\n",
       "      <td>Null</td>\n",
       "      <td>Negative</td>\n",
       "      <td>NaN</td>\n",
       "      <td>OPD Outpatient department (OPD)</td>\n",
       "      <td>f86</td>\n",
       "    </tr>\n",
       "    <tr>\n",
       "      <th>751</th>\n",
       "      <td>30054</td>\n",
       "      <td>NaN</td>\n",
       "      <td>108</td>\n",
       "      <td>316</td>\n",
       "      <td>Alonso, Eddie</td>\n",
       "      <td>M</td>\n",
       "      <td>Royal Oak</td>\n",
       "      <td>England</td>\n",
       "      <td>16</td>\n",
       "      <td>outpatient</td>\n",
       "      <td>...</td>\n",
       "      <td>18.0</td>\n",
       "      <td>2007-11-23</td>\n",
       "      <td>Fully Agree</td>\n",
       "      <td>5.0</td>\n",
       "      <td>6-20Y</td>\n",
       "      <td>Null</td>\n",
       "      <td>Postive</td>\n",
       "      <td>NaN</td>\n",
       "      <td>OPD Outpatient department (OPD)</td>\n",
       "      <td>f54</td>\n",
       "    </tr>\n",
       "    <tr>\n",
       "      <th>752</th>\n",
       "      <td>30162</td>\n",
       "      <td>NaN</td>\n",
       "      <td>105</td>\n",
       "      <td>162</td>\n",
       "      <td>Alexander, Julia</td>\n",
       "      <td>F</td>\n",
       "      <td>Royal Oak</td>\n",
       "      <td>British Columbia</td>\n",
       "      <td>33</td>\n",
       "      <td>outpatient</td>\n",
       "      <td>...</td>\n",
       "      <td>90.0</td>\n",
       "      <td>2007-06-22</td>\n",
       "      <td>Rather Agree</td>\n",
       "      <td>4.5</td>\n",
       "      <td>21-40Y</td>\n",
       "      <td>Null</td>\n",
       "      <td>Postive</td>\n",
       "      <td>NaN</td>\n",
       "      <td>oncology</td>\n",
       "      <td>f162</td>\n",
       "    </tr>\n",
       "    <tr>\n",
       "      <th>753</th>\n",
       "      <td>30067</td>\n",
       "      <td>NaN</td>\n",
       "      <td>101</td>\n",
       "      <td>329</td>\n",
       "      <td>Alonso, Jessie</td>\n",
       "      <td>F</td>\n",
       "      <td>Stoke-on-Trent</td>\n",
       "      <td>California</td>\n",
       "      <td>42</td>\n",
       "      <td>outpatient</td>\n",
       "      <td>...</td>\n",
       "      <td>23.0</td>\n",
       "      <td>2007-12-06</td>\n",
       "      <td>Fully Agree</td>\n",
       "      <td>5.0</td>\n",
       "      <td>41-60y</td>\n",
       "      <td>Null</td>\n",
       "      <td>Postive</td>\n",
       "      <td>NaN</td>\n",
       "      <td>Cardiology</td>\n",
       "      <td>f67</td>\n",
       "    </tr>\n",
       "    <tr>\n",
       "      <th>754</th>\n",
       "      <td>30118</td>\n",
       "      <td>NaN</td>\n",
       "      <td>102</td>\n",
       "      <td>380</td>\n",
       "      <td>Alonso, Walter</td>\n",
       "      <td>M</td>\n",
       "      <td>Hawthorne</td>\n",
       "      <td>Seine (Paris)</td>\n",
       "      <td>42</td>\n",
       "      <td>outpatient</td>\n",
       "      <td>...</td>\n",
       "      <td>89.0</td>\n",
       "      <td>2007-01-02</td>\n",
       "      <td>Fully Agree</td>\n",
       "      <td>5.0</td>\n",
       "      <td>41-60y</td>\n",
       "      <td>Null</td>\n",
       "      <td>Postive</td>\n",
       "      <td>NaN</td>\n",
       "      <td>Dermatology</td>\n",
       "      <td>f118</td>\n",
       "    </tr>\n",
       "  </tbody>\n",
       "</table>\n",
       "<p>5 rows × 24 columns</p>\n",
       "</div>"
      ],
      "text/plain": [
       "     Staff_Id  Bed_ID  Dpt_ID   ID               Name Gender            City  \\\n",
       "750     30086     NaN     108  610  Andersen, Kenneth      M          Downey   \n",
       "751     30054     NaN     108  316      Alonso, Eddie      M       Royal Oak   \n",
       "752     30162     NaN     105  162   Alexander, Julia      F       Royal Oak   \n",
       "753     30067     NaN     101  329     Alonso, Jessie      F  Stoke-on-Trent   \n",
       "754     30118     NaN     102  380     Alonso, Walter      M       Hawthorne   \n",
       "\n",
       "                State  Age Patient type  ... ER_Time       Date  \\\n",
       "750           Bavaria   53   outpatient  ...    36.0 2007-03-09   \n",
       "751           England   16   outpatient  ...    18.0 2007-11-23   \n",
       "752  British Columbia   33   outpatient  ...    90.0 2007-06-22   \n",
       "753        California   42   outpatient  ...    23.0 2007-12-06   \n",
       "754     Seine (Paris)   42   outpatient  ...    89.0 2007-01-02   \n",
       "\n",
       "            Feedback  Rating  Age Bucket Custom     FZ me  Bed Number  \\\n",
       "750  Rather Disagree     2.0      41-60y   Null  Negative         NaN   \n",
       "751      Fully Agree     5.0       6-20Y   Null   Postive         NaN   \n",
       "752     Rather Agree     4.5      21-40Y   Null   Postive         NaN   \n",
       "753      Fully Agree     5.0      41-60y   Null   Postive         NaN   \n",
       "754      Fully Agree     5.0      41-60y   Null   Postive         NaN   \n",
       "\n",
       "                     Department_Name Staff Name  \n",
       "750  OPD Outpatient department (OPD)        f86  \n",
       "751  OPD Outpatient department (OPD)        f54  \n",
       "752                         oncology       f162  \n",
       "753                       Cardiology        f67  \n",
       "754                      Dermatology       f118  \n",
       "\n",
       "[5 rows x 24 columns]"
      ]
     },
     "execution_count": 20,
     "metadata": {},
     "output_type": "execute_result"
    }
   ],
   "source": [
    "df_fin[df_fin['Bed_ID'].isnull()].tail()"
   ]
  },
  {
   "cell_type": "markdown",
   "id": "134718fe",
   "metadata": {},
   "source": [
    "## replacing null values in columns with object dtype to a value"
   ]
  },
  {
   "cell_type": "code",
   "execution_count": 21,
   "id": "7cff66a2",
   "metadata": {},
   "outputs": [],
   "source": [
    "df_fin.loc[df_fin['Patient type']=='outpatient',['Bed_ID','Bed','Bed Number']]='Not Assigned'"
   ]
  },
  {
   "cell_type": "code",
   "execution_count": 22,
   "id": "200e0d6c",
   "metadata": {},
   "outputs": [
    {
     "data": {
      "text/plain": [
       "Staff_Id           0\n",
       "Bed_ID             0\n",
       "Dpt_ID             0\n",
       "ID                 0\n",
       "Name               0\n",
       "Gender             0\n",
       "City               0\n",
       "State              0\n",
       "Age                0\n",
       "Patient type       0\n",
       "Status             0\n",
       "treatemencost      0\n",
       "Bed                0\n",
       "LOS                0\n",
       "ER_Time            0\n",
       "Date               0\n",
       "Feedback           0\n",
       "Rating             0\n",
       "Age Bucket         0\n",
       "Custom             0\n",
       "FZ me              0\n",
       "Bed Number         0\n",
       "Department_Name    0\n",
       "Staff Name         0\n",
       "dtype: int64"
      ]
     },
     "execution_count": 22,
     "metadata": {},
     "output_type": "execute_result"
    }
   ],
   "source": [
    "df_fin.isnull().sum()"
   ]
  },
  {
   "cell_type": "markdown",
   "id": "a1ebab26",
   "metadata": {},
   "source": [
    "## changing name of the columns"
   ]
  },
  {
   "cell_type": "code",
   "execution_count": 23,
   "id": "e3f4be95",
   "metadata": {},
   "outputs": [],
   "source": [
    "df_fin.rename(columns={'treatemencost':'treatment cost'},inplace=True)"
   ]
  },
  {
   "cell_type": "markdown",
   "id": "659ee738",
   "metadata": {},
   "source": [
    "## listing column names "
   ]
  },
  {
   "cell_type": "code",
   "execution_count": 24,
   "id": "d37c45ec",
   "metadata": {},
   "outputs": [
    {
     "data": {
      "text/plain": [
       "Index(['Staff_Id', 'Bed_ID', 'Dpt_ID', 'ID', 'Name', 'Gender', 'City', 'State',\n",
       "       'Age', 'Patient type', 'Status', 'treatment cost', 'Bed', 'LOS',\n",
       "       'ER_Time', 'Date', 'Feedback', 'Rating', 'Age Bucket', 'Custom',\n",
       "       'FZ me', 'Bed Number', 'Department_Name', 'Staff Name'],\n",
       "      dtype='object')"
      ]
     },
     "execution_count": 24,
     "metadata": {},
     "output_type": "execute_result"
    }
   ],
   "source": [
    "df_fin.columns"
   ]
  },
  {
   "cell_type": "markdown",
   "id": "8aff3451",
   "metadata": {},
   "source": [
    "## finding outliers using IQR(Inter quartile region) method"
   ]
  },
  {
   "cell_type": "code",
   "execution_count": 25,
   "id": "7d03ac86",
   "metadata": {},
   "outputs": [
    {
     "data": {
      "text/plain": [
       "<Axes: >"
      ]
     },
     "execution_count": 25,
     "metadata": {},
     "output_type": "execute_result"
    },
    {
     "data": {
      "image/png": "[encoded data removed]",
      "text/plain": [
       "<Figure size 640x480 with 1 Axes>"
      ]
     },
     "metadata": {},
     "output_type": "display_data"
    }
   ],
   "source": [
    "# box plot method to find outlier capping\n",
    "q1=df_fin['treatment cost'].quantile(0.25)\n",
    "q3=df_fin['treatment cost'].quantile(0.75)\n",
    "iqr=q3-q1\n",
    "\n",
    "lc=q1-1.5*iqr\n",
    "uc=q3+1.5*iqr\n",
    "\n",
    "df_fin['treatment cost'].plot(kind='box')"
   ]
  },
  {
   "cell_type": "markdown",
   "id": "920f7174",
   "metadata": {},
   "source": [
    "## capping the outliers"
   ]
  },
  {
   "cell_type": "code",
   "execution_count": 26,
   "id": "5e9bfa95",
   "metadata": {},
   "outputs": [
    {
     "data": {
      "text/plain": [
       "<Axes: >"
      ]
     },
     "execution_count": 26,
     "metadata": {},
     "output_type": "execute_result"
    },
    {
     "data": {
      "image/png": "[encoded data removed]",
      "text/plain": [
       "<Figure size 640x480 with 1 Axes>"
      ]
     },
     "metadata": {},
     "output_type": "display_data"
    }
   ],
   "source": [
    "df_fin['treatment cost'].clip(lower=lc,upper=uc).plot(kind='box')"
   ]
  },
  {
   "cell_type": "code",
   "execution_count": 27,
   "id": "f6ed1b2b",
   "metadata": {},
   "outputs": [],
   "source": [
    "df_fin['treatment cost']=df_fin['treatment cost'].clip(lower=lc,upper=uc)"
   ]
  },
  {
   "cell_type": "markdown",
   "id": "a35b8f7c",
   "metadata": {},
   "source": [
    "## finding outliers for column LOS"
   ]
  },
  {
   "cell_type": "code",
   "execution_count": 28,
   "id": "d7d95145",
   "metadata": {},
   "outputs": [
    {
     "data": {
      "text/plain": [
       "<Axes: >"
      ]
     },
     "execution_count": 28,
     "metadata": {},
     "output_type": "execute_result"
    },
    {
     "data": {
      "image/png": "[encoded data removed]",
      "text/plain": [
       "<Figure size 640x480 with 1 Axes>"
      ]
     },
     "metadata": {},
     "output_type": "display_data"
    }
   ],
   "source": [
    "# box plot method to find outlier capping\n",
    "q1=df_fin['LOS'].quantile(0.25)\n",
    "q3=df_fin['LOS'].quantile(0.75)\n",
    "iqr=q3-q1\n",
    "\n",
    "lc=q1-1.5*iqr\n",
    "uc=q3+1.5*iqr\n",
    "df_fin['LOS'].plot(kind='box')\n"
   ]
  },
  {
   "cell_type": "markdown",
   "id": "3220803d",
   "metadata": {},
   "source": [
    "## capping the outliers"
   ]
  },
  {
   "cell_type": "code",
   "execution_count": 29,
   "id": "1cf7db81",
   "metadata": {},
   "outputs": [
    {
     "data": {
      "text/plain": [
       "<Axes: >"
      ]
     },
     "execution_count": 29,
     "metadata": {},
     "output_type": "execute_result"
    },
    {
     "data": {
      "image/png": "[encoded data removed]",
      "text/plain": [
       "<Figure size 640x480 with 1 Axes>"
      ]
     },
     "metadata": {},
     "output_type": "display_data"
    }
   ],
   "source": [
    "df_fin['LOS'].clip(lower=lc,upper=uc).plot(kind='box')"
   ]
  },
  {
   "cell_type": "code",
   "execution_count": 30,
   "id": "162d6625",
   "metadata": {},
   "outputs": [],
   "source": [
    "df_fin['LOS']=df_fin['LOS'].clip(lower=lc,upper=uc)"
   ]
  },
  {
   "cell_type": "markdown",
   "id": "676066d0",
   "metadata": {},
   "source": [
    "# Analysis on Cleaned Dataset"
   ]
  },
  {
   "cell_type": "code",
   "execution_count": 31,
   "id": "04039ea7",
   "metadata": {},
   "outputs": [
    {
     "data": {
      "text/plain": [
       "Gender\n",
       "F    1280\n",
       "M    1226\n",
       "Name: count, dtype: int64"
      ]
     },
     "execution_count": 31,
     "metadata": {},
     "output_type": "execute_result"
    }
   ],
   "source": [
    "# getting the count of each gender type\n",
    "\n",
    "df_fin['Gender'].value_counts()"
   ]
  },
  {
   "cell_type": "markdown",
   "id": "fd732efb",
   "metadata": {},
   "source": [
    "## plotting distribution count of each gender type using bar chart"
   ]
  },
  {
   "cell_type": "code",
   "execution_count": 32,
   "id": "c95e15cc",
   "metadata": {},
   "outputs": [
    {
     "data": {
      "text/plain": [
       "<Axes: xlabel='Gender', ylabel='count of gender'>"
      ]
     },
     "execution_count": 32,
     "metadata": {},
     "output_type": "execute_result"
    },
    {
     "data": {
      "image/png": "[encoded data removed]",
      "text/plain": [
       "<Figure size 640x480 with 1 Axes>"
      ]
     },
     "metadata": {},
     "output_type": "display_data"
    }
   ],
   "source": [
    "df_fin['Gender'].replace({'M':'Male','F':'Female'}).value_counts().plot(xlabel='Gender',ylabel='count of gender',kind='bar',color=['lightpink','lightblue'])"
   ]
  },
  {
   "cell_type": "markdown",
   "id": "e9ebbc22",
   "metadata": {},
   "source": [
    "## finding minimum age ,maximum age and average age from the dataset"
   ]
  },
  {
   "cell_type": "code",
   "execution_count": 33,
   "id": "04d191e6",
   "metadata": {},
   "outputs": [
    {
     "data": {
      "text/plain": [
       "1"
      ]
     },
     "execution_count": 33,
     "metadata": {},
     "output_type": "execute_result"
    }
   ],
   "source": [
    "df['Age'].min()"
   ]
  },
  {
   "cell_type": "code",
   "execution_count": 34,
   "id": "9439dedc",
   "metadata": {},
   "outputs": [
    {
     "data": {
      "text/plain": [
       "98"
      ]
     },
     "execution_count": 34,
     "metadata": {},
     "output_type": "execute_result"
    }
   ],
   "source": [
    "df['Age'].max()"
   ]
  },
  {
   "cell_type": "code",
   "execution_count": 35,
   "id": "3efd9567",
   "metadata": {},
   "outputs": [
    {
     "data": {
      "text/plain": [
       "30.497206703910614"
      ]
     },
     "execution_count": 35,
     "metadata": {},
     "output_type": "execute_result"
    }
   ],
   "source": [
    "df['Age'].mean()"
   ]
  },
  {
   "cell_type": "markdown",
   "id": "6868bfbc",
   "metadata": {},
   "source": [
    "## How does the average treatment cost vary across different age groups?"
   ]
  },
  {
   "cell_type": "code",
   "execution_count": 36,
   "id": "a70fa554",
   "metadata": {},
   "outputs": [
    {
     "data": {
      "text/plain": [
       "Age Bucket\n",
       "21-40Y      139.945879\n",
       "41-60y      146.073727\n",
       "6-20Y       157.617154\n",
       "60+Y        144.871862\n",
       "Below 6Y    149.367382\n",
       "Name: treatment cost, dtype: float64"
      ]
     },
     "execution_count": 36,
     "metadata": {},
     "output_type": "execute_result"
    }
   ],
   "source": [
    "df_fin.groupby('Age Bucket')['treatment cost'].mean()"
   ]
  },
  {
   "cell_type": "markdown",
   "id": "056ab976",
   "metadata": {},
   "source": [
    "## Which city or region has the highest number of admitted patients?"
   ]
  },
  {
   "cell_type": "code",
   "execution_count": 37,
   "id": "ef94eff3",
   "metadata": {},
   "outputs": [
    {
     "name": "stdout",
     "output_type": "stream",
     "text": [
      "City\n",
      "Langford          549\n",
      "Cliffside         477\n",
      "oxford            357\n",
      "London            300\n",
      "Hawthorne         165\n",
      "Sunbury           136\n",
      "Downey            122\n",
      "Royal Oak          98\n",
      "Issaquah           76\n",
      "Lebanon            65\n",
      "Haney              41\n",
      "Shawnee            34\n",
      "Stoke-on-Trent     28\n",
      "Everett            23\n",
      "Lynnwood           21\n",
      "Chula Vista        14\n",
      "Name: count, dtype: int64\n",
      "Langford\n",
      "549\n"
     ]
    }
   ],
   "source": [
    "patients_in_city=df_fin['City'].value_counts()\n",
    "print(patients_in_city)\n",
    "print(patients_in_city.idxmax())\n",
    "print(patients_in_city.max())"
   ]
  },
  {
   "cell_type": "markdown",
   "id": "2b2198d6",
   "metadata": {},
   "source": [
    "# Department Level Analysis"
   ]
  },
  {
   "cell_type": "markdown",
   "id": "b860364d",
   "metadata": {},
   "source": [
    "## How many departments are there in the hospital?"
   ]
  },
  {
   "cell_type": "code",
   "execution_count": 38,
   "id": "41c81356",
   "metadata": {},
   "outputs": [
    {
     "data": {
      "text/plain": [
       "10"
      ]
     },
     "execution_count": 38,
     "metadata": {},
     "output_type": "execute_result"
    }
   ],
   "source": [
    "len(df_fin['Dpt_ID'].unique())"
   ]
  },
  {
   "cell_type": "markdown",
   "id": "8ca08e65",
   "metadata": {},
   "source": [
    "## Which department has the highest number of patients?"
   ]
  },
  {
   "cell_type": "code",
   "execution_count": 39,
   "id": "78d49fe0",
   "metadata": {},
   "outputs": [
    {
     "name": "stdout",
     "output_type": "stream",
     "text": [
      "OPD Outpatient department (OPD)\n",
      "824\n"
     ]
    }
   ],
   "source": [
    "patient_dept=df_fin['Department_Name'].value_counts()\n",
    "print(patient_dept.idxmax())\n",
    "print(patient_dept.max())"
   ]
  },
  {
   "cell_type": "markdown",
   "id": "b11389fe",
   "metadata": {},
   "source": [
    "## Which department has the longest average length of stay?"
   ]
  },
  {
   "cell_type": "code",
   "execution_count": 40,
   "id": "5b49d4d4",
   "metadata": {},
   "outputs": [
    {
     "name": "stdout",
     "output_type": "stream",
     "text": [
      "Gynaecology\n",
      "2.5762711864406778\n"
     ]
    }
   ],
   "source": [
    "a=df_fin.groupby('Department_Name')['LOS'].mean()\n",
    "print(a.idxmax())\n",
    "print(a.max())"
   ]
  },
  {
   "cell_type": "markdown",
   "id": "55565eb0",
   "metadata": {},
   "source": [
    "## Which department generates the highest total treatment cost?"
   ]
  },
  {
   "cell_type": "code",
   "execution_count": 41,
   "id": "bce11c23",
   "metadata": {},
   "outputs": [
    {
     "name": "stdout",
     "output_type": "stream",
     "text": [
      "OPD Outpatient department (OPD)\n",
      "117825.01000000001\n"
     ]
    }
   ],
   "source": [
    "total_cost=df_fin.groupby('Department_Name')['treatment cost'].sum()\n",
    "res=total_cost.sort_values(ascending=False)\n",
    "print(res.idxmax())\n",
    "print(res.max())\n"
   ]
  },
  {
   "cell_type": "markdown",
   "id": "c36ec968",
   "metadata": {},
   "source": [
    "## What is the average satisfaction or feedback score per department?"
   ]
  },
  {
   "cell_type": "code",
   "execution_count": 42,
   "id": "6e469ca4",
   "metadata": {},
   "outputs": [
    {
     "data": {
      "text/plain": [
       "Department_Name\n",
       "Cardiology                                         4.604167\n",
       "Dermatology                                        4.893491\n",
       "Gynaecology                                        4.974576\n",
       "Neurology                                          4.131944\n",
       "OPD Outpatient department (OPD)                    4.807646\n",
       "OT                                                 4.500000\n",
       "Othopadics                                         4.942708\n",
       "Physical Medicine and Rehabilitation Department    4.655340\n",
       "Surgery                                            4.979358\n",
       "oncology                                           3.733333\n",
       "Name: Rating, dtype: float64"
      ]
     },
     "execution_count": 42,
     "metadata": {},
     "output_type": "execute_result"
    }
   ],
   "source": [
    "df_fin.groupby('Department_Name')['Rating'].mean()"
   ]
  },
  {
   "cell_type": "markdown",
   "id": "a49d01ac",
   "metadata": {},
   "source": [
    "# Treatment & Cost Analysis"
   ]
  },
  {
   "cell_type": "markdown",
   "id": "8d3fe1a1",
   "metadata": {},
   "source": [
    "## What is the average, minimum, and maximum treatment cost across all patients?"
   ]
  },
  {
   "cell_type": "code",
   "execution_count": 43,
   "id": "8e10f5fd",
   "metadata": {},
   "outputs": [
    {
     "name": "stdout",
     "output_type": "stream",
     "text": [
      "664.7800000000001\n",
      "2.54\n",
      "148.80563447725459\n"
     ]
    }
   ],
   "source": [
    "print(df_fin['treatment cost'].max())\n",
    "print(df_fin['treatment cost'].min())\n",
    "print(df_fin['treatment cost'].mean())"
   ]
  },
  {
   "cell_type": "markdown",
   "id": "1c060106",
   "metadata": {},
   "source": [
    "## How does treatment cost vary across different departments?"
   ]
  },
  {
   "cell_type": "code",
   "execution_count": 44,
   "id": "d6317cb6",
   "metadata": {},
   "outputs": [
    {
     "data": {
      "image/png": "[encoded data removed]",
      "text/plain": [
       "<Figure size 640x480 with 1 Axes>"
      ]
     },
     "metadata": {},
     "output_type": "display_data"
    }
   ],
   "source": [
    "res=df_fin.groupby('Department_Name')['treatment cost'].sum()\n",
    "res.plot(kind='barh')\n",
    "plt.ylabel('Department')\n",
    "plt.xlabel('Count')\n",
    "plt.show()"
   ]
  },
  {
   "cell_type": "markdown",
   "id": "45f6f556",
   "metadata": {},
   "source": [
    "## Is there a correlation between Treatment_Cost and Length_of_Stay?"
   ]
  },
  {
   "cell_type": "code",
   "execution_count": 45,
   "id": "ce32f540",
   "metadata": {},
   "outputs": [
    {
     "data": {
      "text/plain": [
       "Index(['Staff_Id', 'Bed_ID', 'Dpt_ID', 'ID', 'Name', 'Gender', 'City', 'State',\n",
       "       'Age', 'Patient type', 'Status', 'treatment cost', 'Bed', 'LOS',\n",
       "       'ER_Time', 'Date', 'Feedback', 'Rating', 'Age Bucket', 'Custom',\n",
       "       'FZ me', 'Bed Number', 'Department_Name', 'Staff Name'],\n",
       "      dtype='object')"
      ]
     },
     "execution_count": 45,
     "metadata": {},
     "output_type": "execute_result"
    }
   ],
   "source": [
    "df_fin.columns"
   ]
  },
  {
   "cell_type": "code",
   "execution_count": 46,
   "id": "c5864dcc",
   "metadata": {},
   "outputs": [
    {
     "name": "stdout",
     "output_type": "stream",
     "text": [
      "                treatment cost       LOS\n",
      "treatment cost        1.000000  0.018412\n",
      "LOS                   0.018412  1.000000\n"
     ]
    },
    {
     "data": {
      "image/png": "[encoded data removed]",
      "text/plain": [
       "<Figure size 640x480 with 1 Axes>"
      ]
     },
     "metadata": {},
     "output_type": "display_data"
    }
   ],
   "source": [
    "print(df_fin[['treatment cost','LOS']].corr())\n",
    "sns.scatterplot(x='LOS', y='treatment cost', data=df_fin)\n",
    "plt.title('Correlation: LOS vs Treatment Cost')\n",
    "plt.show()\n"
   ]
  },
  {
   "cell_type": "markdown",
   "id": "3e5b0022",
   "metadata": {},
   "source": [
    "## Which doctors or staff members have the highest average treatment cost per patient?"
   ]
  },
  {
   "cell_type": "code",
   "execution_count": 47,
   "id": "5cebb059",
   "metadata": {},
   "outputs": [
    {
     "name": "stdout",
     "output_type": "stream",
     "text": [
      "f6\n",
      "3615.3200000000006\n"
     ]
    }
   ],
   "source": [
    "cost_staff=df_fin.groupby('Staff Name')['treatment cost'].sum()\n",
    "print(cost_staff.idxmax())\n",
    "print(cost_staff.max())"
   ]
  },
  {
   "cell_type": "markdown",
   "id": "66c9d852",
   "metadata": {},
   "source": [
    "# Bed & Room Utilization"
   ]
  },
  {
   "cell_type": "markdown",
   "id": "86cd30bc",
   "metadata": {},
   "source": [
    "## bed occupied vs not assigned type"
   ]
  },
  {
   "cell_type": "code",
   "execution_count": 48,
   "id": "15b4ba77",
   "metadata": {},
   "outputs": [
    {
     "data": {
      "text/html": [
       "<div>\n",
       "<style scoped>\n",
       "    .dataframe tbody tr th:only-of-type {\n",
       "        vertical-align: middle;\n",
       "    }\n",
       "\n",
       "    .dataframe tbody tr th {\n",
       "        vertical-align: top;\n",
       "    }\n",
       "\n",
       "    .dataframe thead th {\n",
       "        text-align: right;\n",
       "    }\n",
       "</style>\n",
       "<table border=\"1\" class=\"dataframe\">\n",
       "  <thead>\n",
       "    <tr style=\"text-align: right;\">\n",
       "      <th></th>\n",
       "      <th>Staff_Id</th>\n",
       "      <th>Bed_ID</th>\n",
       "      <th>Dpt_ID</th>\n",
       "      <th>ID</th>\n",
       "      <th>Name</th>\n",
       "      <th>Gender</th>\n",
       "      <th>City</th>\n",
       "      <th>State</th>\n",
       "      <th>Age</th>\n",
       "      <th>Patient type</th>\n",
       "      <th>...</th>\n",
       "      <th>ER_Time</th>\n",
       "      <th>Date</th>\n",
       "      <th>Feedback</th>\n",
       "      <th>Rating</th>\n",
       "      <th>Age Bucket</th>\n",
       "      <th>Custom</th>\n",
       "      <th>FZ me</th>\n",
       "      <th>Bed Number</th>\n",
       "      <th>Department_Name</th>\n",
       "      <th>Staff Name</th>\n",
       "    </tr>\n",
       "  </thead>\n",
       "  <tbody>\n",
       "    <tr>\n",
       "      <th>0</th>\n",
       "      <td>30016</td>\n",
       "      <td>Not Assigned</td>\n",
       "      <td>108</td>\n",
       "      <td>278</td>\n",
       "      <td>Allen, Savannah</td>\n",
       "      <td>F</td>\n",
       "      <td>oxford</td>\n",
       "      <td>California</td>\n",
       "      <td>7</td>\n",
       "      <td>outpatient</td>\n",
       "      <td>...</td>\n",
       "      <td>23.0</td>\n",
       "      <td>2007-10-16</td>\n",
       "      <td>Fully Agree</td>\n",
       "      <td>5.0</td>\n",
       "      <td>6-20Y</td>\n",
       "      <td>Null</td>\n",
       "      <td>Postive</td>\n",
       "      <td>Not Assigned</td>\n",
       "      <td>OPD Outpatient department (OPD)</td>\n",
       "      <td>f16</td>\n",
       "    </tr>\n",
       "    <tr>\n",
       "      <th>1</th>\n",
       "      <td>30032</td>\n",
       "      <td>Not Assigned</td>\n",
       "      <td>108</td>\n",
       "      <td>294</td>\n",
       "      <td>Alonso, Arthur</td>\n",
       "      <td>M</td>\n",
       "      <td>Chula Vista</td>\n",
       "      <td>England</td>\n",
       "      <td>43</td>\n",
       "      <td>outpatient</td>\n",
       "      <td>...</td>\n",
       "      <td>30.0</td>\n",
       "      <td>2007-11-01</td>\n",
       "      <td>Fully Agree</td>\n",
       "      <td>5.0</td>\n",
       "      <td>41-60y</td>\n",
       "      <td>Null</td>\n",
       "      <td>Postive</td>\n",
       "      <td>Not Assigned</td>\n",
       "      <td>OPD Outpatient department (OPD)</td>\n",
       "      <td>f32</td>\n",
       "    </tr>\n",
       "    <tr>\n",
       "      <th>2</th>\n",
       "      <td>30040</td>\n",
       "      <td>Not Assigned</td>\n",
       "      <td>108</td>\n",
       "      <td>302</td>\n",
       "      <td>Alonso, Carrie</td>\n",
       "      <td>F</td>\n",
       "      <td>Royal Oak</td>\n",
       "      <td>Seine (Paris)</td>\n",
       "      <td>2</td>\n",
       "      <td>outpatient</td>\n",
       "      <td>...</td>\n",
       "      <td>36.0</td>\n",
       "      <td>2007-11-09</td>\n",
       "      <td>Fully Agree</td>\n",
       "      <td>5.0</td>\n",
       "      <td>Below 6Y</td>\n",
       "      <td>Null</td>\n",
       "      <td>Postive</td>\n",
       "      <td>Not Assigned</td>\n",
       "      <td>OPD Outpatient department (OPD)</td>\n",
       "      <td>f40</td>\n",
       "    </tr>\n",
       "    <tr>\n",
       "      <th>3</th>\n",
       "      <td>30046</td>\n",
       "      <td>Not Assigned</td>\n",
       "      <td>108</td>\n",
       "      <td>308</td>\n",
       "      <td>Alonso, Danny</td>\n",
       "      <td>M</td>\n",
       "      <td>Royal Oak</td>\n",
       "      <td>Queensland</td>\n",
       "      <td>8</td>\n",
       "      <td>outpatient</td>\n",
       "      <td>...</td>\n",
       "      <td>50.0</td>\n",
       "      <td>2007-11-15</td>\n",
       "      <td>Fully Agree</td>\n",
       "      <td>5.0</td>\n",
       "      <td>6-20Y</td>\n",
       "      <td>Null</td>\n",
       "      <td>Postive</td>\n",
       "      <td>Not Assigned</td>\n",
       "      <td>OPD Outpatient department (OPD)</td>\n",
       "      <td>f46</td>\n",
       "    </tr>\n",
       "    <tr>\n",
       "      <th>4</th>\n",
       "      <td>30052</td>\n",
       "      <td>Not Assigned</td>\n",
       "      <td>108</td>\n",
       "      <td>314</td>\n",
       "      <td>Alonso, Diane</td>\n",
       "      <td>F</td>\n",
       "      <td>Royal Oak</td>\n",
       "      <td>New South Wales</td>\n",
       "      <td>14</td>\n",
       "      <td>outpatient</td>\n",
       "      <td>...</td>\n",
       "      <td>48.0</td>\n",
       "      <td>2007-11-21</td>\n",
       "      <td>Fully Agree</td>\n",
       "      <td>5.0</td>\n",
       "      <td>6-20Y</td>\n",
       "      <td>Null</td>\n",
       "      <td>Postive</td>\n",
       "      <td>Not Assigned</td>\n",
       "      <td>OPD Outpatient department (OPD)</td>\n",
       "      <td>f52</td>\n",
       "    </tr>\n",
       "  </tbody>\n",
       "</table>\n",
       "<p>5 rows × 24 columns</p>\n",
       "</div>"
      ],
      "text/plain": [
       "   Staff_Id        Bed_ID  Dpt_ID   ID             Name Gender         City  \\\n",
       "0     30016  Not Assigned     108  278  Allen, Savannah      F       oxford   \n",
       "1     30032  Not Assigned     108  294   Alonso, Arthur      M  Chula Vista   \n",
       "2     30040  Not Assigned     108  302   Alonso, Carrie      F    Royal Oak   \n",
       "3     30046  Not Assigned     108  308    Alonso, Danny      M    Royal Oak   \n",
       "4     30052  Not Assigned     108  314    Alonso, Diane      F    Royal Oak   \n",
       "\n",
       "             State  Age Patient type  ... ER_Time       Date     Feedback  \\\n",
       "0       California    7   outpatient  ...    23.0 2007-10-16  Fully Agree   \n",
       "1          England   43   outpatient  ...    30.0 2007-11-01  Fully Agree   \n",
       "2    Seine (Paris)    2   outpatient  ...    36.0 2007-11-09  Fully Agree   \n",
       "3       Queensland    8   outpatient  ...    50.0 2007-11-15  Fully Agree   \n",
       "4  New South Wales   14   outpatient  ...    48.0 2007-11-21  Fully Agree   \n",
       "\n",
       "   Rating  Age Bucket Custom    FZ me    Bed Number  \\\n",
       "0     5.0       6-20Y   Null  Postive  Not Assigned   \n",
       "1     5.0      41-60y   Null  Postive  Not Assigned   \n",
       "2     5.0    Below 6Y   Null  Postive  Not Assigned   \n",
       "3     5.0       6-20Y   Null  Postive  Not Assigned   \n",
       "4     5.0       6-20Y   Null  Postive  Not Assigned   \n",
       "\n",
       "                   Department_Name Staff Name  \n",
       "0  OPD Outpatient department (OPD)        f16  \n",
       "1  OPD Outpatient department (OPD)        f32  \n",
       "2  OPD Outpatient department (OPD)        f40  \n",
       "3  OPD Outpatient department (OPD)        f46  \n",
       "4  OPD Outpatient department (OPD)        f52  \n",
       "\n",
       "[5 rows x 24 columns]"
      ]
     },
     "execution_count": 48,
     "metadata": {},
     "output_type": "execute_result"
    }
   ],
   "source": [
    "df_fin.head()"
   ]
  },
  {
   "cell_type": "code",
   "execution_count": 71,
   "id": "128b02ae",
   "metadata": {},
   "outputs": [
    {
     "data": {
      "image/png": "[encoded data removed]",
      "text/plain": [
       "<Figure size 640x480 with 1 Axes>"
      ]
     },
     "metadata": {},
     "output_type": "display_data"
    }
   ],
   "source": [
    "res1=df_fin['Bed'].value_counts().reset_index()\n",
    "res1.columns=['Bed','Count']\n",
    "\n",
    "sns.barplot(data=res1,x='Bed',y='Count')\n",
    "plt.title('barplot for bed distribution')\n",
    "plt.show()"
   ]
  },
  {
   "cell_type": "code",
   "execution_count": 50,
   "id": "07499bc2",
   "metadata": {},
   "outputs": [
    {
     "data": {
      "text/plain": [
       "Index(['Staff_Id', 'Bed_ID', 'Dpt_ID', 'ID', 'Name', 'Gender', 'City', 'State',\n",
       "       'Age', 'Patient type', 'Status', 'treatment cost', 'Bed', 'LOS',\n",
       "       'ER_Time', 'Date', 'Feedback', 'Rating', 'Age Bucket', 'Custom',\n",
       "       'FZ me', 'Bed Number', 'Department_Name', 'Staff Name'],\n",
       "      dtype='object')"
      ]
     },
     "execution_count": 50,
     "metadata": {},
     "output_type": "execute_result"
    }
   ],
   "source": [
    "df_fin.columns"
   ]
  },
  {
   "cell_type": "code",
   "execution_count": 51,
   "id": "f9b841e7",
   "metadata": {},
   "outputs": [
    {
     "data": {
      "text/html": [
       "<div>\n",
       "<style scoped>\n",
       "    .dataframe tbody tr th:only-of-type {\n",
       "        vertical-align: middle;\n",
       "    }\n",
       "\n",
       "    .dataframe tbody tr th {\n",
       "        vertical-align: top;\n",
       "    }\n",
       "\n",
       "    .dataframe thead th {\n",
       "        text-align: right;\n",
       "    }\n",
       "</style>\n",
       "<table border=\"1\" class=\"dataframe\">\n",
       "  <thead>\n",
       "    <tr style=\"text-align: right;\">\n",
       "      <th></th>\n",
       "      <th>Staff_Id</th>\n",
       "      <th>Bed_ID</th>\n",
       "      <th>Dpt_ID</th>\n",
       "      <th>ID</th>\n",
       "      <th>Name</th>\n",
       "      <th>Gender</th>\n",
       "      <th>City</th>\n",
       "      <th>State</th>\n",
       "      <th>Age</th>\n",
       "      <th>Patient type</th>\n",
       "      <th>...</th>\n",
       "      <th>ER_Time</th>\n",
       "      <th>Date</th>\n",
       "      <th>Feedback</th>\n",
       "      <th>Rating</th>\n",
       "      <th>Age Bucket</th>\n",
       "      <th>Custom</th>\n",
       "      <th>FZ me</th>\n",
       "      <th>Bed Number</th>\n",
       "      <th>Department_Name</th>\n",
       "      <th>Staff Name</th>\n",
       "    </tr>\n",
       "  </thead>\n",
       "  <tbody>\n",
       "    <tr>\n",
       "      <th>0</th>\n",
       "      <td>30016</td>\n",
       "      <td>Not Assigned</td>\n",
       "      <td>108</td>\n",
       "      <td>278</td>\n",
       "      <td>Allen, Savannah</td>\n",
       "      <td>F</td>\n",
       "      <td>oxford</td>\n",
       "      <td>California</td>\n",
       "      <td>7</td>\n",
       "      <td>outpatient</td>\n",
       "      <td>...</td>\n",
       "      <td>23.0</td>\n",
       "      <td>2007-10-16</td>\n",
       "      <td>Fully Agree</td>\n",
       "      <td>5.0</td>\n",
       "      <td>6-20Y</td>\n",
       "      <td>Null</td>\n",
       "      <td>Postive</td>\n",
       "      <td>Not Assigned</td>\n",
       "      <td>OPD Outpatient department (OPD)</td>\n",
       "      <td>f16</td>\n",
       "    </tr>\n",
       "    <tr>\n",
       "      <th>1</th>\n",
       "      <td>30032</td>\n",
       "      <td>Not Assigned</td>\n",
       "      <td>108</td>\n",
       "      <td>294</td>\n",
       "      <td>Alonso, Arthur</td>\n",
       "      <td>M</td>\n",
       "      <td>Chula Vista</td>\n",
       "      <td>England</td>\n",
       "      <td>43</td>\n",
       "      <td>outpatient</td>\n",
       "      <td>...</td>\n",
       "      <td>30.0</td>\n",
       "      <td>2007-11-01</td>\n",
       "      <td>Fully Agree</td>\n",
       "      <td>5.0</td>\n",
       "      <td>41-60y</td>\n",
       "      <td>Null</td>\n",
       "      <td>Postive</td>\n",
       "      <td>Not Assigned</td>\n",
       "      <td>OPD Outpatient department (OPD)</td>\n",
       "      <td>f32</td>\n",
       "    </tr>\n",
       "    <tr>\n",
       "      <th>2</th>\n",
       "      <td>30040</td>\n",
       "      <td>Not Assigned</td>\n",
       "      <td>108</td>\n",
       "      <td>302</td>\n",
       "      <td>Alonso, Carrie</td>\n",
       "      <td>F</td>\n",
       "      <td>Royal Oak</td>\n",
       "      <td>Seine (Paris)</td>\n",
       "      <td>2</td>\n",
       "      <td>outpatient</td>\n",
       "      <td>...</td>\n",
       "      <td>36.0</td>\n",
       "      <td>2007-11-09</td>\n",
       "      <td>Fully Agree</td>\n",
       "      <td>5.0</td>\n",
       "      <td>Below 6Y</td>\n",
       "      <td>Null</td>\n",
       "      <td>Postive</td>\n",
       "      <td>Not Assigned</td>\n",
       "      <td>OPD Outpatient department (OPD)</td>\n",
       "      <td>f40</td>\n",
       "    </tr>\n",
       "    <tr>\n",
       "      <th>3</th>\n",
       "      <td>30046</td>\n",
       "      <td>Not Assigned</td>\n",
       "      <td>108</td>\n",
       "      <td>308</td>\n",
       "      <td>Alonso, Danny</td>\n",
       "      <td>M</td>\n",
       "      <td>Royal Oak</td>\n",
       "      <td>Queensland</td>\n",
       "      <td>8</td>\n",
       "      <td>outpatient</td>\n",
       "      <td>...</td>\n",
       "      <td>50.0</td>\n",
       "      <td>2007-11-15</td>\n",
       "      <td>Fully Agree</td>\n",
       "      <td>5.0</td>\n",
       "      <td>6-20Y</td>\n",
       "      <td>Null</td>\n",
       "      <td>Postive</td>\n",
       "      <td>Not Assigned</td>\n",
       "      <td>OPD Outpatient department (OPD)</td>\n",
       "      <td>f46</td>\n",
       "    </tr>\n",
       "    <tr>\n",
       "      <th>4</th>\n",
       "      <td>30052</td>\n",
       "      <td>Not Assigned</td>\n",
       "      <td>108</td>\n",
       "      <td>314</td>\n",
       "      <td>Alonso, Diane</td>\n",
       "      <td>F</td>\n",
       "      <td>Royal Oak</td>\n",
       "      <td>New South Wales</td>\n",
       "      <td>14</td>\n",
       "      <td>outpatient</td>\n",
       "      <td>...</td>\n",
       "      <td>48.0</td>\n",
       "      <td>2007-11-21</td>\n",
       "      <td>Fully Agree</td>\n",
       "      <td>5.0</td>\n",
       "      <td>6-20Y</td>\n",
       "      <td>Null</td>\n",
       "      <td>Postive</td>\n",
       "      <td>Not Assigned</td>\n",
       "      <td>OPD Outpatient department (OPD)</td>\n",
       "      <td>f52</td>\n",
       "    </tr>\n",
       "  </tbody>\n",
       "</table>\n",
       "<p>5 rows × 24 columns</p>\n",
       "</div>"
      ],
      "text/plain": [
       "   Staff_Id        Bed_ID  Dpt_ID   ID             Name Gender         City  \\\n",
       "0     30016  Not Assigned     108  278  Allen, Savannah      F       oxford   \n",
       "1     30032  Not Assigned     108  294   Alonso, Arthur      M  Chula Vista   \n",
       "2     30040  Not Assigned     108  302   Alonso, Carrie      F    Royal Oak   \n",
       "3     30046  Not Assigned     108  308    Alonso, Danny      M    Royal Oak   \n",
       "4     30052  Not Assigned     108  314    Alonso, Diane      F    Royal Oak   \n",
       "\n",
       "             State  Age Patient type  ... ER_Time       Date     Feedback  \\\n",
       "0       California    7   outpatient  ...    23.0 2007-10-16  Fully Agree   \n",
       "1          England   43   outpatient  ...    30.0 2007-11-01  Fully Agree   \n",
       "2    Seine (Paris)    2   outpatient  ...    36.0 2007-11-09  Fully Agree   \n",
       "3       Queensland    8   outpatient  ...    50.0 2007-11-15  Fully Agree   \n",
       "4  New South Wales   14   outpatient  ...    48.0 2007-11-21  Fully Agree   \n",
       "\n",
       "   Rating  Age Bucket Custom    FZ me    Bed Number  \\\n",
       "0     5.0       6-20Y   Null  Postive  Not Assigned   \n",
       "1     5.0      41-60y   Null  Postive  Not Assigned   \n",
       "2     5.0    Below 6Y   Null  Postive  Not Assigned   \n",
       "3     5.0       6-20Y   Null  Postive  Not Assigned   \n",
       "4     5.0       6-20Y   Null  Postive  Not Assigned   \n",
       "\n",
       "                   Department_Name Staff Name  \n",
       "0  OPD Outpatient department (OPD)        f16  \n",
       "1  OPD Outpatient department (OPD)        f32  \n",
       "2  OPD Outpatient department (OPD)        f40  \n",
       "3  OPD Outpatient department (OPD)        f46  \n",
       "4  OPD Outpatient department (OPD)        f52  \n",
       "\n",
       "[5 rows x 24 columns]"
      ]
     },
     "execution_count": 51,
     "metadata": {},
     "output_type": "execute_result"
    }
   ],
   "source": [
    "df_fin.head()"
   ]
  },
  {
   "cell_type": "markdown",
   "id": "5d798193",
   "metadata": {},
   "source": [
    "## How many patients are admitted each month?"
   ]
  },
  {
   "cell_type": "code",
   "execution_count": 52,
   "id": "3dd9eb5e",
   "metadata": {},
   "outputs": [
    {
     "data": {
      "text/plain": [
       "Date\n",
       "March        904\n",
       "June         285\n",
       "August       201\n",
       "May          200\n",
       "January      148\n",
       "April        141\n",
       "July         132\n",
       "February     123\n",
       "November      99\n",
       "September     97\n",
       "October       88\n",
       "December      88\n",
       "Name: count, dtype: int64"
      ]
     },
     "execution_count": 52,
     "metadata": {},
     "output_type": "execute_result"
    }
   ],
   "source": [
    "a=df_fin['Date'].dt.month_name()\n",
    "month_count=a.value_counts()\n",
    "month_count"
   ]
  },
  {
   "cell_type": "markdown",
   "id": "413f2acd",
   "metadata": {},
   "source": [
    "## Which month/season has the highest number of admissions?"
   ]
  },
  {
   "cell_type": "code",
   "execution_count": 53,
   "id": "704721d3",
   "metadata": {},
   "outputs": [
    {
     "name": "stdout",
     "output_type": "stream",
     "text": [
      "March\n",
      "904\n"
     ]
    }
   ],
   "source": [
    "month_count=df_fin['Date'].dt.month_name()\n",
    "month_highest=month_count.value_counts()\n",
    "print(month_highest.idxmax())\n",
    "print(month_highest.max())"
   ]
  },
  {
   "cell_type": "markdown",
   "id": "b6e18a44",
   "metadata": {},
   "source": [
    "## Trends in treatment cost over month"
   ]
  },
  {
   "cell_type": "code",
   "execution_count": 81,
   "id": "e10144c1",
   "metadata": {},
   "outputs": [
    {
     "name": "stdout",
     "output_type": "stream",
     "text": [
      "        month  treatment cost\n",
      "4     January        25015.40\n",
      "3    February        16305.45\n",
      "7       March       135552.38\n",
      "0       April        21174.29\n",
      "8         May        28323.38\n",
      "6        June        45715.65\n",
      "5        July        17795.14\n",
      "1      August        29760.69\n",
      "11  September        13945.30\n",
      "10    October        11046.58\n",
      "9    November        16655.55\n",
      "2    December        11617.11\n"
     ]
    }
   ],
   "source": [
    "df_fin['month'] = df_fin['Date'].dt.month_name()\n",
    "\n",
    "\n",
    "df_monthly = df_fin.groupby('month', as_index=False)['treatment cost'].sum()\n",
    "\n",
    "\n",
    "month_order = ['January', 'February', 'March', 'April', 'May', 'June',\n",
    "               'July', 'August', 'September', 'October', 'November', 'December']\n",
    "\n",
    "df_monthly['month'] = pd.Categorical(df_monthly['month'], categories=month_order, ordered=True)\n",
    "\n",
    "\n",
    "df_monthly = df_monthly.sort_values('month')\n",
    "\n",
    "print(df_monthly)"
   ]
  },
  {
   "cell_type": "code",
   "execution_count": 88,
   "id": "519c789d",
   "metadata": {},
   "outputs": [
    {
     "data": {
      "text/plain": [
       "<Axes: xlabel='month', ylabel='treatment cost'>"
      ]
     },
     "execution_count": 88,
     "metadata": {},
     "output_type": "execute_result"
    },
    {
     "data": {
      "image/png": "[encoded data removed]",
      "text/plain": [
       "<Figure size 1500x1000 with 1 Axes>"
      ]
     },
     "metadata": {},
     "output_type": "display_data"
    }
   ],
   "source": [
    "plt.figure(figsize=(15,10))\n",
    "sns.lineplot(data='df_monthly',x=df_monthly['month'],y=df_monthly['treatment cost'])"
   ]
  },
  {
   "cell_type": "markdown",
   "id": "a40a0dbd",
   "metadata": {},
   "source": [
    "## Which department or doctor has the highest satisfaction score?"
   ]
  },
  {
   "cell_type": "code",
   "execution_count": 110,
   "id": "6b51c375",
   "metadata": {},
   "outputs": [
    {
     "data": {
      "text/plain": [
       "Rating    Surgery\n",
       "dtype: object"
      ]
     },
     "execution_count": 110,
     "metadata": {},
     "output_type": "execute_result"
    }
   ],
   "source": [
    "res_df=df_fin.groupby('Department_Name').agg({'Rating':np.mean})\n",
    "res_df.sort_values(by='Rating',ascending=False,inplace=True)\n",
    "res_df.idxmax()"
   ]
  },
  {
   "cell_type": "markdown",
   "id": "abcadf11",
   "metadata": {},
   "source": [
    "## Is there a relationship between treatment cost and satisfaction?"
   ]
  },
  {
   "cell_type": "code",
   "execution_count": 124,
   "id": "ed375f75",
   "metadata": {},
   "outputs": [
    {
     "data": {
      "text/plain": [
       "<Axes: >"
      ]
     },
     "execution_count": 124,
     "metadata": {},
     "output_type": "execute_result"
    },
    {
     "data": {
      "image/png": "[encoded data removed]",
      "text/plain": [
       "<Figure size 640x480 with 2 Axes>"
      ]
     },
     "metadata": {},
     "output_type": "display_data"
    }
   ],
   "source": [
    "df_res=df_fin[['treatment cost','Rating']]\n",
    "sns.heatmap(data=df_fin[['treatment cost','Rating']].corr(),annot=True,cmap='YlGn')"
   ]
  },
  {
   "cell_type": "markdown",
   "id": "83cf2b2b",
   "metadata": {},
   "source": [
    "## What is the average satisfaction level overall?"
   ]
  },
  {
   "cell_type": "code",
   "execution_count": 126,
   "id": "1efec35b",
   "metadata": {},
   "outputs": [
    {
     "data": {
      "text/plain": [
       "4.748802873104549"
      ]
     },
     "execution_count": 126,
     "metadata": {},
     "output_type": "execute_result"
    }
   ],
   "source": [
    "df_fin['Rating'].mean()"
   ]
  },
  {
   "cell_type": "markdown",
   "id": "fefbdae7",
   "metadata": {},
   "source": [
    "## Which numeric variables are most correlated with treatment cost?"
   ]
  },
  {
   "cell_type": "code",
   "execution_count": 131,
   "id": "83720070",
   "metadata": {},
   "outputs": [
    {
     "name": "stdout",
     "output_type": "stream",
     "text": [
      "<class 'pandas.core.frame.DataFrame'>\n",
      "RangeIndex: 2506 entries, 0 to 2505\n",
      "Data columns (total 25 columns):\n",
      " #   Column           Non-Null Count  Dtype         \n",
      "---  ------           --------------  -----         \n",
      " 0   Staff_Id         2506 non-null   int64         \n",
      " 1   Bed_ID           2506 non-null   object        \n",
      " 2   Dpt_ID           2506 non-null   int64         \n",
      " 3   ID               2506 non-null   int64         \n",
      " 4   Name             2506 non-null   object        \n",
      " 5   Gender           2506 non-null   object        \n",
      " 6   City             2506 non-null   object        \n",
      " 7   State            2506 non-null   object        \n",
      " 8   Age              2506 non-null   int64         \n",
      " 9   Patient type     2506 non-null   object        \n",
      " 10  Status           2506 non-null   object        \n",
      " 11  treatment cost   2506 non-null   float64       \n",
      " 12  Bed              2506 non-null   object        \n",
      " 13  LOS              2506 non-null   int64         \n",
      " 14  ER_Time          2506 non-null   float64       \n",
      " 15  Date             2506 non-null   datetime64[ns]\n",
      " 16  Feedback         2506 non-null   object        \n",
      " 17  Rating           2506 non-null   float64       \n",
      " 18  Age Bucket       2506 non-null   object        \n",
      " 19  Custom           2506 non-null   object        \n",
      " 20  FZ me            2506 non-null   object        \n",
      " 21  Bed Number       2506 non-null   object        \n",
      " 22  Department_Name  2506 non-null   object        \n",
      " 23  Staff Name       2506 non-null   object        \n",
      " 24  month            2506 non-null   object        \n",
      "dtypes: datetime64[ns](1), float64(3), int64(5), object(16)\n",
      "memory usage: 489.6+ KB\n"
     ]
    }
   ],
   "source": [
    "df_fin.info()"
   ]
  },
  {
   "cell_type": "code",
   "execution_count": 132,
   "id": "2efa8682",
   "metadata": {},
   "outputs": [],
   "source": [
    "df_inc=df_fin.select_dtypes(include=['int64','float64'])"
   ]
  },
  {
   "cell_type": "code",
   "execution_count": 133,
   "id": "cf550e81",
   "metadata": {},
   "outputs": [
    {
     "data": {
      "text/plain": [
       "Index(['Staff_Id', 'Dpt_ID', 'ID', 'Age', 'treatment cost', 'LOS', 'ER_Time',\n",
       "       'Rating'],\n",
       "      dtype='object')"
      ]
     },
     "execution_count": 133,
     "metadata": {},
     "output_type": "execute_result"
    }
   ],
   "source": [
    "df_inc.columns"
   ]
  },
  {
   "cell_type": "code",
   "execution_count": 151,
   "id": "37dd9d91",
   "metadata": {},
   "outputs": [
    {
     "data": {
      "text/html": [
       "<div>\n",
       "<style scoped>\n",
       "    .dataframe tbody tr th:only-of-type {\n",
       "        vertical-align: middle;\n",
       "    }\n",
       "\n",
       "    .dataframe tbody tr th {\n",
       "        vertical-align: top;\n",
       "    }\n",
       "\n",
       "    .dataframe thead th {\n",
       "        text-align: right;\n",
       "    }\n",
       "</style>\n",
       "<table border=\"1\" class=\"dataframe\">\n",
       "  <thead>\n",
       "    <tr style=\"text-align: right;\">\n",
       "      <th></th>\n",
       "      <th>Age</th>\n",
       "      <th>treatment cost</th>\n",
       "      <th>LOS</th>\n",
       "      <th>ER_Time</th>\n",
       "      <th>Rating</th>\n",
       "    </tr>\n",
       "  </thead>\n",
       "  <tbody>\n",
       "    <tr>\n",
       "      <th>Age</th>\n",
       "      <td>1.000000</td>\n",
       "      <td>-0.015574</td>\n",
       "      <td>0.008405</td>\n",
       "      <td>-0.046206</td>\n",
       "      <td>-0.194181</td>\n",
       "    </tr>\n",
       "    <tr>\n",
       "      <th>treatment cost</th>\n",
       "      <td>-0.015574</td>\n",
       "      <td>1.000000</td>\n",
       "      <td>0.018412</td>\n",
       "      <td>-0.004537</td>\n",
       "      <td>0.006379</td>\n",
       "    </tr>\n",
       "    <tr>\n",
       "      <th>LOS</th>\n",
       "      <td>0.008405</td>\n",
       "      <td>0.018412</td>\n",
       "      <td>1.000000</td>\n",
       "      <td>-0.400798</td>\n",
       "      <td>0.007093</td>\n",
       "    </tr>\n",
       "    <tr>\n",
       "      <th>ER_Time</th>\n",
       "      <td>-0.046206</td>\n",
       "      <td>-0.004537</td>\n",
       "      <td>-0.400798</td>\n",
       "      <td>1.000000</td>\n",
       "      <td>0.082402</td>\n",
       "    </tr>\n",
       "    <tr>\n",
       "      <th>Rating</th>\n",
       "      <td>-0.194181</td>\n",
       "      <td>0.006379</td>\n",
       "      <td>0.007093</td>\n",
       "      <td>0.082402</td>\n",
       "      <td>1.000000</td>\n",
       "    </tr>\n",
       "  </tbody>\n",
       "</table>\n",
       "</div>"
      ],
      "text/plain": [
       "                     Age  treatment cost       LOS   ER_Time    Rating\n",
       "Age             1.000000       -0.015574  0.008405 -0.046206 -0.194181\n",
       "treatment cost -0.015574        1.000000  0.018412 -0.004537  0.006379\n",
       "LOS             0.008405        0.018412  1.000000 -0.400798  0.007093\n",
       "ER_Time        -0.046206       -0.004537 -0.400798  1.000000  0.082402\n",
       "Rating         -0.194181        0.006379  0.007093  0.082402  1.000000"
      ]
     },
     "execution_count": 151,
     "metadata": {},
     "output_type": "execute_result"
    }
   ],
   "source": [
    "df_corr=df_inc[['Age','treatment cost','LOS','ER_Time','Rating']].corr()\n",
    "df_corr"
   ]
  },
  {
   "cell_type": "code",
   "execution_count": 153,
   "id": "4f482cfe",
   "metadata": {},
   "outputs": [
    {
     "data": {
      "text/plain": [
       "<Axes: >"
      ]
     },
     "execution_count": 153,
     "metadata": {},
     "output_type": "execute_result"
    },
    {
     "data": {
      "image/png": "[encoded data removed]",
      "text/plain": [
       "<Figure size 640x480 with 2 Axes>"
      ]
     },
     "metadata": {},
     "output_type": "display_data"
    }
   ],
   "source": [
    "df_treat=df_corr['treatment cost']\n",
    "sns.heatmap(data=df_treat.to_frame(),annot=True)"
   ]
  },
  {
   "cell_type": "markdown",
   "id": "1a0470aa",
   "metadata": {},
   "source": [
    "## Which departments are most profitable (total cost billed)?"
   ]
  },
  {
   "cell_type": "code",
   "execution_count": 157,
   "id": "774fd12a",
   "metadata": {},
   "outputs": [
    {
     "data": {
      "text/plain": [
       "treatment cost    OPD Outpatient department (OPD)\n",
       "dtype: object"
      ]
     },
     "execution_count": 157,
     "metadata": {},
     "output_type": "execute_result"
    }
   ],
   "source": [
    "df_dept_cost=df_fin.groupby(by='Department_Name').agg({'treatment cost':np.sum})\n",
    "df_dept_cost.idxmax()"
   ]
  },
  {
   "cell_type": "markdown",
   "id": "9c1b1f1e",
   "metadata": {},
   "source": [
    "## What’s the hospital’s average revenue per patient?"
   ]
  },
  {
   "cell_type": "code",
   "execution_count": 164,
   "id": "b9f1d2b7",
   "metadata": {},
   "outputs": [
    {
     "data": {
      "text/plain": [
       "148.80563447725459"
      ]
     },
     "execution_count": 164,
     "metadata": {},
     "output_type": "execute_result"
    }
   ],
   "source": [
    "avg_revenue_per_patient=df_fin['treatment cost'].sum()/df_fin['ID'].nunique()\n",
    "avg_revenue_per_patient"
   ]
  },
  {
   "cell_type": "markdown",
   "id": "3772a245",
   "metadata": {},
   "source": [
    "# Which cities bring in the most revenue?"
   ]
  },
  {
   "cell_type": "code",
   "execution_count": 172,
   "id": "67c53329",
   "metadata": {},
   "outputs": [
    {
     "name": "stdout",
     "output_type": "stream",
     "text": [
      "treatment cost    Langford\n",
      "dtype: object\n",
      "treatment cost    82383.04\n",
      "dtype: float64\n"
     ]
    }
   ],
   "source": [
    "city_revenue=df_fin.groupby(by='City').agg({'treatment cost':np.sum})\n",
    "print(city_revenue.idxmax())\n",
    "print(city_revenue.max())"
   ]
  },
  {
   "cell_type": "markdown",
   "id": "19d2bf00",
   "metadata": {},
   "source": [
    "## converting cleaned dataset to csv and saving in the local path"
   ]
  },
  {
   "cell_type": "code",
   "execution_count": 176,
   "id": "826bff2c",
   "metadata": {},
   "outputs": [],
   "source": [
    "df_fin.to_csv('C://Users//benar//OneDrive//Desktop//Sql Projects//Hospital Mangement//Hospital_clean.csv')"
   ]
  },
  {
   "cell_type": "markdown",
   "id": "83e5865c",
   "metadata": {},
   "source": [
    "# END OF NOTEBOOK......."
   ]
  }
 ],
 "metadata": {
  "kernelspec": {
   "display_name": "Python 3 (ipykernel)",
   "language": "python",
   "name": "python3"
  },
  "language_info": {
   "codemirror_mode": {
    "name": "ipython",
    "version": 3
   },
   "file_extension": ".py",
   "mimetype": "text/x-python",
   "name": "python",
   "nbconvert_exporter": "python",
   "pygments_lexer": "ipython3",
   "version": "3.11.5"
  }
 },
 "nbformat": 4,
 "nbformat_minor": 5
}
